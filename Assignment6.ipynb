{
  "nbformat": 4,
  "nbformat_minor": 0,
  "metadata": {
    "colab": {
      "name": "Assignment6.ipynb",
      "provenance": [],
      "authorship_tag": "ABX9TyMrdgXaK1dJogh7GMBzmFUW",
      "include_colab_link": true
    },
    "kernelspec": {
      "name": "python3",
      "display_name": "Python 3"
    },
    "language_info": {
      "name": "python"
    }
  },
  "cells": [
    {
      "cell_type": "markdown",
      "metadata": {
        "id": "view-in-github",
        "colab_type": "text"
      },
      "source": [
        "<a href=\"https://colab.research.google.com/github/janevnglst/Linear-Algebra_ChE_2nd-Sem-2021-2022/blob/main/Assignment6.ipynb\" target=\"_parent\"><img src=\"https://colab.research.google.com/assets/colab-badge.svg\" alt=\"Open In Colab\"/></a>"
      ]
    },
    {
      "cell_type": "markdown",
      "source": [
        "# Linear Algebra for ChE\n",
        "## Assignment 4: Matrix Operations"
      ],
      "metadata": {
        "id": "Bm_vGiTFULDK"
      }
    },
    {
      "cell_type": "markdown",
      "source": [
        "Now that you have a fundamental knowledge about representing and operating with vectors as well as the fundamentals of matrices, we'll try to the same operations with matrices and even more."
      ],
      "metadata": {
        "id": "OMdCass3UU7j"
      }
    },
    {
      "cell_type": "markdown",
      "source": [
        "# Objectives"
      ],
      "metadata": {
        "id": "D2ccM7XeUsH6"
      }
    },
    {
      "cell_type": "markdown",
      "source": [
        "At the end of this activity you will be able to:\n",
        "\n",
        "1. Be familiar with the fundamental matrix operations.\n",
        "2. Apply the operations to solve intermediate equations.\n",
        "3. Apply matrix algebra in engineering solutions."
      ],
      "metadata": {
        "id": "cPcQW1zOUs8K"
      }
    },
    {
      "cell_type": "markdown",
      "source": [
        "# Discussion"
      ],
      "metadata": {
        "id": "xCJVyfk6U3Ya"
      }
    },
    {
      "cell_type": "code",
      "source": [
        "import numpy as np\n",
        "import matplotlib.pyplot as plt\n",
        "%matplotlib inline"
      ],
      "metadata": {
        "id": "-3ZTn_ktU8kE"
      },
      "execution_count": null,
      "outputs": []
    },
    {
      "cell_type": "markdown",
      "source": [
        "# Transposition"
      ],
      "metadata": {
        "id": "APSs4FRgVBL6"
      }
    },
    {
      "cell_type": "markdown",
      "source": [
        "One of the fundamental operations in matrix algebra is Transposition. The transpose of a matrix is done by flipping the values of its elements over its diagonals. With this, the rows and columns from the original matrix will be switched. So for a matrix  its transpose is denoted as $A^T$. So for example:"
      ],
      "metadata": {
        "id": "gYVdGSvNVEYI"
      }
    },
    {
      "cell_type": "markdown",
      "source": [
        "$$\n",
        "A=\\begin{bmatrix} 3 & 6 & 1 \\\\ 1 & -1 & 1 \\\\ -1 & 4 & 2\\end{bmatrix}\\\\\n",
        "A^T=\\begin{bmatrix} 4 & 8 & 3 \\\\ 9 & -6 & 1 \\\\ -2 & 5 & 2\\end{bmatrix}\\\\\n",
        "$$"
      ],
      "metadata": {
        "id": "dmKAB05zVKuy"
      }
    },
    {
      "cell_type": "markdown",
      "source": [
        "This can now be achieved programmatically by using np.transpose() or using the T method."
      ],
      "metadata": {
        "id": "g6ekMiPOWK8r"
      }
    },
    {
      "cell_type": "code",
      "source": [
        "A = np.array([\n",
        "    [5 , 6, 8],\n",
        "    [6, -9, 2],\n",
        "    [2, -5, 3]\n",
        "])\n",
        "A"
      ],
      "metadata": {
        "colab": {
          "base_uri": "https://localhost:8080/"
        },
        "id": "TDTvJ7YcWQPy",
        "outputId": "59680cd8-0593-4a43-b808-62ff77759920"
      },
      "execution_count": null,
      "outputs": [
        {
          "output_type": "execute_result",
          "data": {
            "text/plain": [
              "array([[ 5,  6,  8],\n",
              "       [ 6, -9,  2],\n",
              "       [ 2, -5,  3]])"
            ]
          },
          "metadata": {},
          "execution_count": 3
        }
      ]
    },
    {
      "cell_type": "code",
      "source": [
        "AT1 = np.transpose(A)\n",
        "AT1"
      ],
      "metadata": {
        "colab": {
          "base_uri": "https://localhost:8080/"
        },
        "id": "Be8b2WOQWZqS",
        "outputId": "fc91a400-372e-4650-e7a5-8f2ce8a8c581"
      },
      "execution_count": null,
      "outputs": [
        {
          "output_type": "execute_result",
          "data": {
            "text/plain": [
              "array([[ 5,  6,  2],\n",
              "       [ 6, -9, -5],\n",
              "       [ 8,  2,  3]])"
            ]
          },
          "metadata": {},
          "execution_count": 4
        }
      ]
    },
    {
      "cell_type": "code",
      "source": [
        "AT2 = A.T\n",
        "AT2"
      ],
      "metadata": {
        "colab": {
          "base_uri": "https://localhost:8080/"
        },
        "id": "XqkTQUi7Weir",
        "outputId": "c54e407e-e303-4579-c9a2-ca8e37526fb4"
      },
      "execution_count": null,
      "outputs": [
        {
          "output_type": "execute_result",
          "data": {
            "text/plain": [
              "array([[ 5,  6,  2],\n",
              "       [ 6, -9, -5],\n",
              "       [ 8,  2,  3]])"
            ]
          },
          "metadata": {},
          "execution_count": 5
        }
      ]
    },
    {
      "cell_type": "code",
      "source": [
        "np.array_equiv(AT1, AT2)"
      ],
      "metadata": {
        "colab": {
          "base_uri": "https://localhost:8080/"
        },
        "id": "sIm9SI18Wi3K",
        "outputId": "97199801-a124-4622-af9b-28eba3d7e556"
      },
      "execution_count": null,
      "outputs": [
        {
          "output_type": "execute_result",
          "data": {
            "text/plain": [
              "True"
            ]
          },
          "metadata": {},
          "execution_count": 6
        }
      ]
    },
    {
      "cell_type": "code",
      "source": [
        "B = np.array([\n",
        "    [90,54,12,51],\n",
        "    [28,20,30,65],\n",
        "])\n",
        "B.shape"
      ],
      "metadata": {
        "colab": {
          "base_uri": "https://localhost:8080/"
        },
        "id": "SGbxTvIuWllp",
        "outputId": "b292d593-78d4-4339-c871-24ac9c32b765"
      },
      "execution_count": null,
      "outputs": [
        {
          "output_type": "execute_result",
          "data": {
            "text/plain": [
              "(2, 4)"
            ]
          },
          "metadata": {},
          "execution_count": 12
        }
      ]
    },
    {
      "cell_type": "code",
      "source": [
        "np.transpose(B).shape"
      ],
      "metadata": {
        "colab": {
          "base_uri": "https://localhost:8080/"
        },
        "id": "J5O4Fs8zWse6",
        "outputId": "435dd106-97f7-4611-867e-2b82657e4a7f"
      },
      "execution_count": null,
      "outputs": [
        {
          "output_type": "execute_result",
          "data": {
            "text/plain": [
              "(4, 2)"
            ]
          },
          "metadata": {},
          "execution_count": 8
        }
      ]
    },
    {
      "cell_type": "code",
      "source": [
        "B.T.shape"
      ],
      "metadata": {
        "colab": {
          "base_uri": "https://localhost:8080/"
        },
        "id": "4e-lYfVqWu2i",
        "outputId": "a845d360-42c3-457e-bf8d-f9f3daab3435"
      },
      "execution_count": null,
      "outputs": [
        {
          "output_type": "execute_result",
          "data": {
            "text/plain": [
              "(4, 2)"
            ]
          },
          "metadata": {},
          "execution_count": 9
        }
      ]
    },
    {
      "cell_type": "markdown",
      "source": [
        "## Try to create your own matrix (you can try non-squares) to test transposition."
      ],
      "metadata": {
        "id": "JB-2yqKlX56U"
      }
    },
    {
      "cell_type": "code",
      "source": [
        "## Try out your code here.\n",
        "Z=np.array([\n",
        "    [23,65,92],\n",
        "    [19,10,12]        \n",
        "])\n",
        "Z.shape"
      ],
      "metadata": {
        "colab": {
          "base_uri": "https://localhost:8080/"
        },
        "id": "2akX2Z0ZX72L",
        "outputId": "77cd6a50-65cd-4ed5-a930-157a222d3b0a"
      },
      "execution_count": null,
      "outputs": [
        {
          "output_type": "execute_result",
          "data": {
            "text/plain": [
              "(2, 3)"
            ]
          },
          "metadata": {},
          "execution_count": 11
        }
      ]
    },
    {
      "cell_type": "code",
      "source": [
        "np.transpose(Z).shape"
      ],
      "metadata": {
        "colab": {
          "base_uri": "https://localhost:8080/"
        },
        "id": "i6mjTy1iYRIC",
        "outputId": "9dbd5d04-75b9-40f6-ca63-884ee648ffef"
      },
      "execution_count": null,
      "outputs": [
        {
          "output_type": "execute_result",
          "data": {
            "text/plain": [
              "(3, 2)"
            ]
          },
          "metadata": {},
          "execution_count": 13
        }
      ]
    },
    {
      "cell_type": "code",
      "source": [
        "Z.T.shape"
      ],
      "metadata": {
        "colab": {
          "base_uri": "https://localhost:8080/"
        },
        "id": "3cpNkxe8YSMa",
        "outputId": "de0dfcf6-f55b-4a80-8a3c-b9214cc42b5f"
      },
      "execution_count": null,
      "outputs": [
        {
          "output_type": "execute_result",
          "data": {
            "text/plain": [
              "(3, 2)"
            ]
          },
          "metadata": {},
          "execution_count": 14
        }
      ]
    },
    {
      "cell_type": "code",
      "source": [
        "ZT = Z.T\n",
        "ZT"
      ],
      "metadata": {
        "colab": {
          "base_uri": "https://localhost:8080/"
        },
        "id": "NXi4DRh-YUTs",
        "outputId": "33ff5146-4c97-42c3-9a06-97a32ad9f30f"
      },
      "execution_count": null,
      "outputs": [
        {
          "output_type": "execute_result",
          "data": {
            "text/plain": [
              "array([[23, 19],\n",
              "       [65, 10],\n",
              "       [92, 12]])"
            ]
          },
          "metadata": {},
          "execution_count": 15
        }
      ]
    },
    {
      "cell_type": "markdown",
      "source": [
        "# Dot Product / Inner Product"
      ],
      "metadata": {
        "id": "19z23lVfYbuM"
      }
    },
    {
      "cell_type": "markdown",
      "source": [
        "If you recall the dot product from laboratory activity before, we will try to implement the same operation with matrices. In matrix dot product we are going to get the sum of products of the vectors by row-column pairs. So if we have two matrices $A$ and $T$:"
      ],
      "metadata": {
        "id": "jyFDJyCmYfTa"
      }
    },
    {
      "cell_type": "markdown",
      "source": [
        "$$X = \\begin{bmatrix}x_{(0,0)}&x_{(0,1)}\\\\ x_{(1,0)}&x_{(1,1)}\\end{bmatrix}, Y = \\begin{bmatrix}y_{(0,0)}&y_{(0,1)}\\\\ y_{(1,0)}&y_{(1,1)}\\end{bmatrix}$$"
      ],
      "metadata": {
        "id": "9L630r-lbNMV"
      }
    },
    {
      "cell_type": "markdown",
      "source": [
        "The dot product will then be computed as:"
      ],
      "metadata": {
        "id": "CUfDNZE4YuJS"
      }
    },
    {
      "cell_type": "markdown",
      "source": [
        "$$X \\cdot Y= \\begin{bmatrix} x_{(0,0)}*y_{(0,0)} + x_{(0,1)}*y_{(1,0)} & x_{(0,0)}*y_{(0,1)} + x_{(0,1)}*y_{(1,1)} \\\\  x_{(1,0)}*y_{(0,0)} + x_{(1,1)}*y_{(1,0)} & x_{(1,0)}*y_{(0,1)} + x_{(1,1)}*y_{(1,1)}\n",
        "\\end{bmatrix}$$"
      ],
      "metadata": {
        "id": "hKa4tXzBbN_T"
      }
    },
    {
      "cell_type": "markdown",
      "source": [
        "So if we assign values to $X$ and $Y$:"
      ],
      "metadata": {
        "id": "caWRTIPdZHAq"
      }
    },
    {
      "cell_type": "markdown",
      "source": [
        "$$X = \\begin{bmatrix}42&26\\\\ 0&1\\end{bmatrix}, Y = \\begin{bmatrix}-1&0\\\\ 2&2\\end{bmatrix}$$"
      ],
      "metadata": {
        "id": "5ImrIYA4bREz"
      }
    },
    {
      "cell_type": "markdown",
      "source": [
        "$$X \\cdot Y= \\begin{bmatrix} 1*-1 + 2*2 & 1*0 + 2*2 \\\\  0*-1 + 1*2 & 0*0 + 1*2 \\end{bmatrix} = \\begin{bmatrix} 3 & 4 \\\\2 & 2 \\end{bmatrix}$$"
      ],
      "metadata": {
        "id": "arhH0t26gwZG"
      }
    },
    {
      "cell_type": "markdown",
      "source": [
        "This could be achieved programmatically using np.dot(), np.matmul() or the @ operator."
      ],
      "metadata": {
        "id": "yz8LSxR8ZNLn"
      }
    },
    {
      "cell_type": "code",
      "source": [
        "X = np.array([\n",
        "    [18,29],\n",
        "    [40,61]\n",
        "])\n",
        "Y = np.array([\n",
        "    [-15,60],\n",
        "    [29,27]\n",
        "])"
      ],
      "metadata": {
        "id": "HvWhwhBYZQZJ"
      },
      "execution_count": null,
      "outputs": []
    },
    {
      "cell_type": "code",
      "source": [
        "np.array_equiv(X, Y)"
      ],
      "metadata": {
        "colab": {
          "base_uri": "https://localhost:8080/"
        },
        "id": "QfDEQbJrZXpL",
        "outputId": "fe320be3-f070-4532-9a7e-84b5984e9700"
      },
      "execution_count": null,
      "outputs": [
        {
          "output_type": "execute_result",
          "data": {
            "text/plain": [
              "False"
            ]
          },
          "metadata": {},
          "execution_count": 17
        }
      ]
    },
    {
      "cell_type": "code",
      "source": [
        "np.dot(X,Y)"
      ],
      "metadata": {
        "colab": {
          "base_uri": "https://localhost:8080/"
        },
        "id": "2d99-jvhZYgL",
        "outputId": "9890dc7b-babf-4656-b9b8-213399248942"
      },
      "execution_count": null,
      "outputs": [
        {
          "output_type": "execute_result",
          "data": {
            "text/plain": [
              "array([[ 571, 1863],\n",
              "       [1169, 4047]])"
            ]
          },
          "metadata": {},
          "execution_count": 18
        }
      ]
    },
    {
      "cell_type": "code",
      "source": [
        "X.dot(Y)"
      ],
      "metadata": {
        "colab": {
          "base_uri": "https://localhost:8080/"
        },
        "id": "ah6ohDfTZaqD",
        "outputId": "8339b3c1-fcbe-43cc-bd92-7e8684fca0dd"
      },
      "execution_count": null,
      "outputs": [
        {
          "output_type": "execute_result",
          "data": {
            "text/plain": [
              "array([[ 571, 1863],\n",
              "       [1169, 4047]])"
            ]
          },
          "metadata": {},
          "execution_count": 19
        }
      ]
    },
    {
      "cell_type": "code",
      "source": [
        "X @ Y"
      ],
      "metadata": {
        "colab": {
          "base_uri": "https://localhost:8080/"
        },
        "id": "AYN4-954ZciK",
        "outputId": "6cecf4c8-1bc7-417b-d357-a9bd64ffebd0"
      },
      "execution_count": null,
      "outputs": [
        {
          "output_type": "execute_result",
          "data": {
            "text/plain": [
              "array([[ 571, 1863],\n",
              "       [1169, 4047]])"
            ]
          },
          "metadata": {},
          "execution_count": 20
        }
      ]
    },
    {
      "cell_type": "code",
      "source": [
        "np.matmul(X,Y)"
      ],
      "metadata": {
        "colab": {
          "base_uri": "https://localhost:8080/"
        },
        "id": "l7V4uDGDZewr",
        "outputId": "e6bac353-8084-4cf4-eea3-b30c88b80d06"
      },
      "execution_count": null,
      "outputs": [
        {
          "output_type": "execute_result",
          "data": {
            "text/plain": [
              "array([[ 571, 1863],\n",
              "       [1169, 4047]])"
            ]
          },
          "metadata": {},
          "execution_count": 21
        }
      ]
    },
    {
      "cell_type": "code",
      "source": [
        "D = np.array([\n",
        "    [36,27,23],\n",
        "    [38,16,37],\n",
        "    [59,36,21]\n",
        "])\n",
        "E = np.array([\n",
        "    [-28,90,51],\n",
        "    [29,48,66],\n",
        "    [78,45,31]\n",
        "])"
      ],
      "metadata": {
        "id": "NLezL_VBZhOd"
      },
      "execution_count": null,
      "outputs": []
    },
    {
      "cell_type": "code",
      "source": [
        "D @ E"
      ],
      "metadata": {
        "colab": {
          "base_uri": "https://localhost:8080/"
        },
        "id": "LZo75jBOZtpM",
        "outputId": "f7f72710-0182-424e-9910-cb83b292ce30"
      },
      "execution_count": null,
      "outputs": [
        {
          "output_type": "execute_result",
          "data": {
            "text/plain": [
              "array([[1569, 5571, 4331],\n",
              "       [2286, 5853, 4141],\n",
              "       [1030, 7983, 6036]])"
            ]
          },
          "metadata": {},
          "execution_count": 23
        }
      ]
    },
    {
      "cell_type": "code",
      "source": [
        "D.dot(E)"
      ],
      "metadata": {
        "colab": {
          "base_uri": "https://localhost:8080/"
        },
        "id": "CQZJ32H9ZyhD",
        "outputId": "58b1a1d1-a92b-4674-cb7c-642fea2a9154"
      },
      "execution_count": null,
      "outputs": [
        {
          "output_type": "execute_result",
          "data": {
            "text/plain": [
              "array([[1569, 5571, 4331],\n",
              "       [2286, 5853, 4141],\n",
              "       [1030, 7983, 6036]])"
            ]
          },
          "metadata": {},
          "execution_count": 25
        }
      ]
    },
    {
      "cell_type": "code",
      "source": [
        "np.matmul(D, E)"
      ],
      "metadata": {
        "colab": {
          "base_uri": "https://localhost:8080/"
        },
        "id": "VWUm2nvzZzs7",
        "outputId": "2b489f3b-f85c-4b4d-b1e3-0c4b8bd653fd"
      },
      "execution_count": null,
      "outputs": [
        {
          "output_type": "execute_result",
          "data": {
            "text/plain": [
              "array([[1569, 5571, 4331],\n",
              "       [2286, 5853, 4141],\n",
              "       [1030, 7983, 6036]])"
            ]
          },
          "metadata": {},
          "execution_count": 26
        }
      ]
    },
    {
      "cell_type": "code",
      "source": [
        "np.dot(D, E)"
      ],
      "metadata": {
        "colab": {
          "base_uri": "https://localhost:8080/"
        },
        "id": "fabyOieJZ1xj",
        "outputId": "e46ed861-9aae-4c3c-a8de-7f93580fc5db"
      },
      "execution_count": null,
      "outputs": [
        {
          "output_type": "execute_result",
          "data": {
            "text/plain": [
              "array([[1569, 5571, 4331],\n",
              "       [2286, 5853, 4141],\n",
              "       [1030, 7983, 6036]])"
            ]
          },
          "metadata": {},
          "execution_count": 27
        }
      ]
    },
    {
      "cell_type": "markdown",
      "source": [
        "In matrix dot products there are additional rules compared with vector dot products. Since vector dot products were just in one dimension there are less restrictions. Since now we are dealing with Rank 2 vectors we need to consider some rules:"
      ],
      "metadata": {
        "id": "jVzhKKmsZ46r"
      }
    },
    {
      "cell_type": "markdown",
      "source": [
        "# Rule 1: The inner dimensions of the two matrices in question must be the same."
      ],
      "metadata": {
        "id": "jrH--xIdZ686"
      }
    },
    {
      "cell_type": "markdown",
      "source": [
        "So given a matrix $A$ with a shape of $(a,b)$ where  and  are any integers. If we want to do a dot product between $A$ and another matrix $B$, then matrix $B$ should have a shape of $(b,c)$ where $b$ and $c$ are any integers. So for given the following matrices:"
      ],
      "metadata": {
        "id": "WhIDZ3RzZ9Ya"
      }
    },
    {
      "cell_type": "markdown",
      "source": [
        ""
      ],
      "metadata": {
        "id": "O4yJvvN3b-mE"
      }
    },
    {
      "cell_type": "markdown",
      "source": [
        "So in this case $A$ has a shape of$(3,2)$ , $B$ has a shape of $(2,3)$ and $C$ has a shape of . So the only matrix pairs that is eligible to perform dot product is matrices $A.C$ , or $B.C$."
      ],
      "metadata": {
        "id": "j6ysfPRGdVES"
      }
    },
    {
      "cell_type": "code",
      "source": [
        "A = np.array([\n",
        "    [24, 42],\n",
        "    [59, -25],\n",
        "    [90, 19]\n",
        "])\n",
        "B = np.array([\n",
        "    [12,81],\n",
        "    [38,35],\n",
        "    [-15,-26]\n",
        "])\n",
        "C = np.array([\n",
        "    [70,10,18],\n",
        "    [17,14,28]\n",
        "])\n",
        "print(A.shape)\n",
        "print(B.shape)\n",
        "print(C.shape)"
      ],
      "metadata": {
        "colab": {
          "base_uri": "https://localhost:8080/"
        },
        "id": "OLvcf6NrcJMK",
        "outputId": "803dfc54-b8c8-4786-851d-a16e35659511"
      },
      "execution_count": null,
      "outputs": [
        {
          "output_type": "stream",
          "name": "stdout",
          "text": [
            "(3, 2)\n",
            "(3, 2)\n",
            "(2, 3)\n"
          ]
        }
      ]
    },
    {
      "cell_type": "code",
      "source": [
        "A @ C"
      ],
      "metadata": {
        "colab": {
          "base_uri": "https://localhost:8080/"
        },
        "id": "aJGbll2bcoPk",
        "outputId": "7edbe738-4f46-47b7-d682-45df2235e909"
      },
      "execution_count": null,
      "outputs": [
        {
          "output_type": "execute_result",
          "data": {
            "text/plain": [
              "array([[2394,  828, 1608],\n",
              "       [3705,  240,  362],\n",
              "       [6623, 1166, 2152]])"
            ]
          },
          "metadata": {},
          "execution_count": 29
        }
      ]
    },
    {
      "cell_type": "code",
      "source": [
        "B @ C"
      ],
      "metadata": {
        "colab": {
          "base_uri": "https://localhost:8080/"
        },
        "id": "FAlYW_vscpIz",
        "outputId": "4ba585d5-30b5-4162-f030-8080f0b99c35"
      },
      "execution_count": null,
      "outputs": [
        {
          "output_type": "execute_result",
          "data": {
            "text/plain": [
              "array([[ 2217,  1254,  2484],\n",
              "       [ 3255,   870,  1664],\n",
              "       [-1492,  -514,  -998]])"
            ]
          },
          "metadata": {},
          "execution_count": 30
        }
      ]
    },
    {
      "cell_type": "markdown",
      "source": [
        "If you would notice the shape of the dot product changed and its shape is not the same as any of the matrices we used. The shape of a dot product is actually derived from the shapes of the matrices used. So recall matrix $A$ with a shape of $(a,b)$ and matrix $B$ with a shape of $(b,c)$, $A.B$ should have a shape $(a,c)$."
      ],
      "metadata": {
        "id": "uo-1wnH4eSAN"
      }
    },
    {
      "cell_type": "code",
      "source": [
        "A @ B.T"
      ],
      "metadata": {
        "colab": {
          "base_uri": "https://localhost:8080/"
        },
        "id": "R7LpJczbcs3c",
        "outputId": "b74dbae7-2085-4353-ae69-ac1747311524"
      },
      "execution_count": null,
      "outputs": [
        {
          "output_type": "execute_result",
          "data": {
            "text/plain": [
              "array([[ 3690,  2382, -1452],\n",
              "       [-1317,  1367,  -235],\n",
              "       [ 2619,  4085, -1844]])"
            ]
          },
          "metadata": {},
          "execution_count": 31
        }
      ]
    },
    {
      "cell_type": "code",
      "source": [
        "X = np.array([\n",
        "    [15,22,34,90]\n",
        "])\n",
        "Y = np.array([\n",
        "    [16,40,43,-11]\n",
        "])\n",
        "print(X.shape)\n",
        "print(Y.shape)"
      ],
      "metadata": {
        "colab": {
          "base_uri": "https://localhost:8080/"
        },
        "id": "nB_cg7gqct0y",
        "outputId": "534a02c5-ada8-4ba6-af51-19a5047568e4"
      },
      "execution_count": null,
      "outputs": [
        {
          "output_type": "stream",
          "name": "stdout",
          "text": [
            "(1, 4)\n",
            "(1, 4)\n"
          ]
        }
      ]
    },
    {
      "cell_type": "code",
      "source": [
        "Y.T @ X"
      ],
      "metadata": {
        "colab": {
          "base_uri": "https://localhost:8080/"
        },
        "id": "bXSk4Eipc1TD",
        "outputId": "301e071c-a9bf-4eda-f123-58848470256b"
      },
      "execution_count": null,
      "outputs": [
        {
          "output_type": "execute_result",
          "data": {
            "text/plain": [
              "array([[ 240,  352,  544, 1440],\n",
              "       [ 600,  880, 1360, 3600],\n",
              "       [ 645,  946, 1462, 3870],\n",
              "       [-165, -242, -374, -990]])"
            ]
          },
          "metadata": {},
          "execution_count": 33
        }
      ]
    },
    {
      "cell_type": "code",
      "source": [
        "X @ Y.T"
      ],
      "metadata": {
        "colab": {
          "base_uri": "https://localhost:8080/"
        },
        "id": "86TsXzasc2Xz",
        "outputId": "13935bd5-81ef-4aaa-87a3-c838d67e1f66"
      },
      "execution_count": null,
      "outputs": [
        {
          "output_type": "execute_result",
          "data": {
            "text/plain": [
              "array([[1592]])"
            ]
          },
          "metadata": {},
          "execution_count": 34
        }
      ]
    },
    {
      "cell_type": "markdown",
      "source": [
        "And youcan see that when you try to multiply A and B, it returns ValueError pertaining to matrix shape mismatch."
      ],
      "metadata": {
        "id": "kXyGtVzic6B7"
      }
    },
    {
      "cell_type": "markdown",
      "source": [
        "# Rule 2: Dot Product has special properties"
      ],
      "metadata": {
        "id": "ZEtLLm65eHw9"
      }
    },
    {
      "cell_type": "markdown",
      "source": [
        "Dot products are prevalent in matrix algebra, this implies that it has several unique properties and it should be considered when formulation solutions:\n",
        "\n"
      ],
      "metadata": {
        "id": "ZZzTA8UmeJLa"
      }
    },
    {
      "cell_type": "markdown",
      "source": [
        "1. $A.B ≠ B.A$\n",
        "2. $A.(B.C) = (A.B).C$\n",
        "3. $A.(B+C) = A.B+A.C$\n",
        "4. $(B+C).A = B.A+C.A$\n",
        "5. $A.I = A$\n",
        "6. $A\\cdot \\emptyset = \\emptyset$ "
      ],
      "metadata": {
        "id": "D94JmFk5etBT"
      }
    },
    {
      "cell_type": "markdown",
      "source": [
        "I'll be doing just one of the properties and I'll leave the rest to test your skills!"
      ],
      "metadata": {
        "id": "309dHWm8etUL"
      }
    },
    {
      "cell_type": "code",
      "source": [
        "A = np.array([\n",
        "    [33,23,14],\n",
        "    [34,45,21],\n",
        "    [14,16,15]\n",
        "])\n",
        "B = np.array([\n",
        "    [44,16,68],\n",
        "    [41,19,97],\n",
        "    [15,46,83]\n",
        "])\n",
        "C = np.array([\n",
        "    [21,13,94],\n",
        "    [20,14,15],\n",
        "    [12,62,12]\n",
        "])"
      ],
      "metadata": {
        "id": "fjzJlGGEf6qj"
      },
      "execution_count": null,
      "outputs": []
    },
    {
      "cell_type": "code",
      "source": [
        "np.eye(3)"
      ],
      "metadata": {
        "colab": {
          "base_uri": "https://localhost:8080/"
        },
        "id": "nekenH39gVkc",
        "outputId": "c1dd028e-eaf0-4606-9e09-9d51709a37d3"
      },
      "execution_count": null,
      "outputs": [
        {
          "output_type": "execute_result",
          "data": {
            "text/plain": [
              "array([[1., 0., 0.],\n",
              "       [0., 1., 0.],\n",
              "       [0., 0., 1.]])"
            ]
          },
          "metadata": {},
          "execution_count": 36
        }
      ]
    },
    {
      "cell_type": "code",
      "source": [
        "A.dot(np.eye(3))"
      ],
      "metadata": {
        "colab": {
          "base_uri": "https://localhost:8080/"
        },
        "id": "1XzkT7a2gWgY",
        "outputId": "9ac98da8-8bcb-4964-a018-e4e9b7e14d5d"
      },
      "execution_count": null,
      "outputs": [
        {
          "output_type": "execute_result",
          "data": {
            "text/plain": [
              "array([[33., 23., 14.],\n",
              "       [34., 45., 21.],\n",
              "       [14., 16., 15.]])"
            ]
          },
          "metadata": {},
          "execution_count": 37
        }
      ]
    },
    {
      "cell_type": "code",
      "source": [
        "np.array_equal(A@B, B@A)"
      ],
      "metadata": {
        "colab": {
          "base_uri": "https://localhost:8080/"
        },
        "id": "Y6FvtH0OgZn7",
        "outputId": "1dd167ed-3e7b-4eb0-e5b2-c8b5b3d1c552"
      },
      "execution_count": null,
      "outputs": [
        {
          "output_type": "execute_result",
          "data": {
            "text/plain": [
              "False"
            ]
          },
          "metadata": {},
          "execution_count": 38
        }
      ]
    },
    {
      "cell_type": "code",
      "source": [
        "E = A @ (B @ C)\n",
        "E"
      ],
      "metadata": {
        "colab": {
          "base_uri": "https://localhost:8080/"
        },
        "id": "YeoxeH7Ogalz",
        "outputId": "ffa37881-87cd-4272-e36d-bcadc9ba170c"
      },
      "execution_count": null,
      "outputs": [
        {
          "output_type": "execute_result",
          "data": {
            "text/plain": [
              "array([[154529, 405885, 336649],\n",
              "       [225116, 602678, 480179],\n",
              "       [100785, 268951, 203976]])"
            ]
          },
          "metadata": {},
          "execution_count": 39
        }
      ]
    },
    {
      "cell_type": "code",
      "source": [
        "F = (A @ B) @ C\n",
        "F"
      ],
      "metadata": {
        "colab": {
          "base_uri": "https://localhost:8080/"
        },
        "id": "5IRupEf8gcfz",
        "outputId": "498a1884-9106-466e-a9b6-4b5f569c53a7"
      },
      "execution_count": null,
      "outputs": [
        {
          "output_type": "execute_result",
          "data": {
            "text/plain": [
              "array([[154529, 405885, 336649],\n",
              "       [225116, 602678, 480179],\n",
              "       [100785, 268951, 203976]])"
            ]
          },
          "metadata": {},
          "execution_count": 40
        }
      ]
    },
    {
      "cell_type": "code",
      "source": [
        "np.array_equal(E, X)"
      ],
      "metadata": {
        "colab": {
          "base_uri": "https://localhost:8080/"
        },
        "id": "RPi3SAUwgefj",
        "outputId": "181fbab9-8c9e-44b5-9edb-f7d44f4a7fe3"
      },
      "execution_count": null,
      "outputs": [
        {
          "output_type": "execute_result",
          "data": {
            "text/plain": [
              "False"
            ]
          },
          "metadata": {},
          "execution_count": 41
        }
      ]
    },
    {
      "cell_type": "code",
      "source": [
        "np.array_equiv(E, F)"
      ],
      "metadata": {
        "colab": {
          "base_uri": "https://localhost:8080/"
        },
        "id": "1-B4lZc5ggZz",
        "outputId": "328c1c41-7b68-4f30-935c-f641b0de7d6f"
      },
      "execution_count": null,
      "outputs": [
        {
          "output_type": "execute_result",
          "data": {
            "text/plain": [
              "True"
            ]
          },
          "metadata": {},
          "execution_count": 43
        }
      ]
    },
    {
      "cell_type": "code",
      "source": [
        "A @ E"
      ],
      "metadata": {
        "colab": {
          "base_uri": "https://localhost:8080/"
        },
        "id": "E2_2523jh3D7",
        "outputId": "13ad58b4-323f-4014-95a1-d097e40f9f02"
      },
      "execution_count": null,
      "outputs": [
        {
          "output_type": "execute_result",
          "data": {
            "text/plain": [
              "array([[11688115, 31021113, 25009198],\n",
              "       [17500691, 46568571, 37337617],\n",
              "       [ 7277037, 19359503, 15455590]])"
            ]
          },
          "metadata": {},
          "execution_count": 48
        }
      ]
    },
    {
      "cell_type": "code",
      "source": [
        "z_mat = np.zeros(A.shape)\n",
        "z_mat"
      ],
      "metadata": {
        "colab": {
          "base_uri": "https://localhost:8080/"
        },
        "id": "p-K21mwMh4ub",
        "outputId": "40fc6cd9-1e83-417f-9eaa-42425be08d4a"
      },
      "execution_count": null,
      "outputs": [
        {
          "output_type": "execute_result",
          "data": {
            "text/plain": [
              "array([[0., 0., 0.],\n",
              "       [0., 0., 0.],\n",
              "       [0., 0., 0.]])"
            ]
          },
          "metadata": {},
          "execution_count": 49
        }
      ]
    },
    {
      "cell_type": "code",
      "source": [
        "a_dot_z = A.dot(np.zeros(A.shape))\n",
        "a_dot_z"
      ],
      "metadata": {
        "colab": {
          "base_uri": "https://localhost:8080/"
        },
        "id": "WalYTJrnh7nI",
        "outputId": "50595c69-8495-4ad3-910a-a12adc842ec4"
      },
      "execution_count": null,
      "outputs": [
        {
          "output_type": "execute_result",
          "data": {
            "text/plain": [
              "array([[0., 0., 0.],\n",
              "       [0., 0., 0.],\n",
              "       [0., 0., 0.]])"
            ]
          },
          "metadata": {},
          "execution_count": 50
        }
      ]
    },
    {
      "cell_type": "code",
      "source": [
        "np.array_equal(a_dot_z,z_mat)"
      ],
      "metadata": {
        "colab": {
          "base_uri": "https://localhost:8080/"
        },
        "id": "Zu0KfwYJh9tE",
        "outputId": "77bc08be-7a6d-4bc8-9b0c-b5e73ae6e98f"
      },
      "execution_count": null,
      "outputs": [
        {
          "output_type": "execute_result",
          "data": {
            "text/plain": [
              "True"
            ]
          },
          "metadata": {},
          "execution_count": 51
        }
      ]
    },
    {
      "cell_type": "code",
      "source": [
        "null_mat = np.empty(A.shape, dtype=float)\n",
        "null = np.array(null_mat,dtype=float)\n",
        "print(null)\n",
        "np.allclose(a_dot_z,null)"
      ],
      "metadata": {
        "colab": {
          "base_uri": "https://localhost:8080/"
        },
        "id": "nWBvFpOFiAYc",
        "outputId": "35b9b4c0-dbc5-4299-c233-7422d00eaefc"
      },
      "execution_count": null,
      "outputs": [
        {
          "output_type": "stream",
          "name": "stdout",
          "text": [
            "[[0. 0. 0.]\n",
            " [0. 0. 0.]\n",
            " [0. 0. 0.]]\n"
          ]
        },
        {
          "output_type": "execute_result",
          "data": {
            "text/plain": [
              "True"
            ]
          },
          "metadata": {},
          "execution_count": 52
        }
      ]
    },
    {
      "cell_type": "markdown",
      "source": [
        "## Determinant"
      ],
      "metadata": {
        "id": "fOj8Vc1kiFD7"
      }
    },
    {
      "cell_type": "markdown",
      "source": [
        "A determinant is a scalar value derived from a square matrix. The determinant is a fundamental and important value used in matrix algebra. Although it will not be evident in this laboratory on how it can be used practically, but it will be reatly used in future lessons.\n",
        "\n",
        "The determinant of some matrix $A$ is denoted as $det(A)$ or $|A|$. So let's say $A$ is represented as:\n",
        "$$A = \\begin{bmatrix}a_{(0,0)}&a_{(0,1)}\\\\a_{(1,0)}&a_{(1,1)}\\end{bmatrix}$$\n",
        "We can compute for the determinant as:\n",
        "$$|A| = a_{(0,0)}*a_{(1,1)} - a_{(1,0)}*a_{(0,1)}$$\n",
        "So if we have $A$ as:\n",
        "$$A = \\begin{bmatrix}1&4\\\\0&3\\end{bmatrix}, |A| = 3$$\n",
        "\n",
        "But you might wonder how about square matrices beyond the shape $(2,2)$? We can approach this problem by using several methods such as co-factor expansion and the minors method. This can be taught in the lecture of the laboratory but we can achieve the strenuous computation of high-dimensional matrices programmatically using Python. We can achieve this by using `np.linalg.det()`."
      ],
      "metadata": {
        "id": "8BBs77ZZiH-O"
      }
    },
    {
      "cell_type": "code",
      "source": [
        "A = np.array([\n",
        "    [12,34],\n",
        "    [20,53]\n",
        "])\n",
        "np.linalg.det(A)"
      ],
      "metadata": {
        "colab": {
          "base_uri": "https://localhost:8080/"
        },
        "id": "05P1B-cfiMJj",
        "outputId": "a91e44ca-da2a-4c50-e6e1-f9ec47b8d9b1"
      },
      "execution_count": null,
      "outputs": [
        {
          "output_type": "execute_result",
          "data": {
            "text/plain": [
              "-43.999999999999915"
            ]
          },
          "metadata": {},
          "execution_count": 53
        }
      ]
    },
    {
      "cell_type": "code",
      "source": [
        "## Now other mathematics classes would require you to solve this by hand, \n",
        "## and that is great for practicing your memorization and coordination skills \n",
        "## but in this class we aim for simplicity and speed so we'll use programming\n",
        "## but it's completely fine if you want to try to solve this one by hand.\n",
        "B = np.array([\n",
        "    [31,23,53,64],\n",
        "    [30,35,14,33],\n",
        "    [34,14,84,23],\n",
        "    [53,23,63,38]\n",
        "])\n",
        "np.linalg.det(B)"
      ],
      "metadata": {
        "colab": {
          "base_uri": "https://localhost:8080/"
        },
        "id": "bWqERlQ5iYS0",
        "outputId": "f76390d3-618d-4cd2-ef31-1ddb949d7c24"
      },
      "execution_count": null,
      "outputs": [
        {
          "output_type": "execute_result",
          "data": {
            "text/plain": [
              "-1865095.9999999986"
            ]
          },
          "metadata": {},
          "execution_count": 55
        }
      ]
    },
    {
      "cell_type": "markdown",
      "source": [
        "## Inverse"
      ],
      "metadata": {
        "id": "s6QtrPoMigzd"
      }
    },
    {
      "cell_type": "markdown",
      "source": [
        "The inverse of a matrix is another fundamental operation in matrix algebra. Determining the inverse of a matrix let us determine if its solvability and its characteristic as a system of linear equation — we'll expand on this in the nect module. Another use of the inverse matrix is solving the problem of divisibility between matrices. Although element-wise division exists but dividing the entire concept of matrices does not exists. Inverse matrices provides a related operation that could have the same concept of \"dividing\" matrices.\n",
        "\n",
        "Now to determine the inverse of a matrix we need to perform several steps. So let's say we have a matrix $M$:\n",
        "$$M = \\begin{bmatrix}1&7\\\\-3&5\\end{bmatrix}$$\n",
        "First, we need to get the determinant of $M$.\n",
        "$$|M| = (1)(5)-(-3)(7) = 26$$\n",
        "Next, we need to reform the matrix into the inverse form:\n",
        "$$M^{-1} = \\frac{1}{|M|} \\begin{bmatrix} m_{(1,1)} & -m_{(0,1)} \\\\ -m_{(1,0)} & m_{(0,0)}\\end{bmatrix}$$\n",
        "So that will be:\n",
        "$$M^{-1} = \\frac{1}{26} \\begin{bmatrix} 5 & -7 \\\\ 3 & 1\\end{bmatrix} = \\begin{bmatrix} \\frac{5}{26} & \\frac{-7}{26} \\\\ \\frac{3}{26} & \\frac{1}{26}\\end{bmatrix}$$\n",
        "For higher-dimension matrices you might need to use co-factors, minors, adjugates, and other reduction techinques. To solve this programmatially we can use `np.linalg.inv()`."
      ],
      "metadata": {
        "id": "qpbCKXnoikNj"
      }
    },
    {
      "cell_type": "code",
      "source": [
        "M = np.array([\n",
        "    [15,79],\n",
        "    [-35, 55]\n",
        "])\n",
        "\n",
        "np.array(M @ np.linalg.inv(M), dtype=int)"
      ],
      "metadata": {
        "colab": {
          "base_uri": "https://localhost:8080/"
        },
        "id": "Gr6Au8UTinB7",
        "outputId": "6d9e34a7-ee2f-4582-9b89-ae1334cbdc60"
      },
      "execution_count": null,
      "outputs": [
        {
          "output_type": "execute_result",
          "data": {
            "text/plain": [
              "array([[1, 0],\n",
              "       [0, 1]])"
            ]
          },
          "metadata": {},
          "execution_count": 56
        }
      ]
    },
    {
      "cell_type": "code",
      "source": [
        "P = np.array([\n",
        "              [64, 29, 60],\n",
        "              [24, 42, -41],\n",
        "              [32, 62, 72]\n",
        "])\n",
        "Q = np.linalg.inv(P)\n",
        "Q"
      ],
      "metadata": {
        "colab": {
          "base_uri": "https://localhost:8080/"
        },
        "id": "ApjJM8B7hBdr",
        "outputId": "69c82628-9f2b-4317-a883-7617884387e7"
      },
      "execution_count": null,
      "outputs": [
        {
          "output_type": "execute_result",
          "data": {
            "text/plain": [
              "array([[ 0.02011536,  0.005898  , -0.01340422],\n",
              "       [-0.01098647,  0.00971435,  0.01468717],\n",
              "       [ 0.00052041, -0.01098647,  0.00719903]])"
            ]
          },
          "metadata": {},
          "execution_count": 45
        }
      ]
    },
    {
      "cell_type": "code",
      "source": [
        "P @ Q"
      ],
      "metadata": {
        "colab": {
          "base_uri": "https://localhost:8080/"
        },
        "id": "-FaZY5kNhORW",
        "outputId": "9b5e272a-14f2-4ca1-c184-6bfb20eea66a"
      },
      "execution_count": null,
      "outputs": [
        {
          "output_type": "execute_result",
          "data": {
            "text/plain": [
              "array([[ 1.00000000e+00,  4.16333634e-17,  1.73472348e-17],\n",
              "       [ 9.20487644e-17,  1.00000000e+00, -3.03576608e-17],\n",
              "       [ 8.93382590e-17,  2.77555756e-17,  1.00000000e+00]])"
            ]
          },
          "metadata": {},
          "execution_count": 46
        }
      ]
    },
    {
      "cell_type": "code",
      "source": [
        "## And now let's test your skills in solving a matrix with high dimensions:\n",
        "N = np.array([\n",
        "    [18,5,23,1,0,33,5],\n",
        "    [30,45,20,11,32,54,25],\n",
        "    [65,79,20,30,30,20,23],\n",
        "    [14,43,24,42,82,43,12],\n",
        "    [82,62,82,37,21,56,12],\n",
        "    [-25,15,22,20,20,26,-30],\n",
        "    [-22,-25,21,22,41,80,12],\n",
        "])\n",
        "N_inv = np.linalg.inv(N)\n",
        "np.array(N @ N_inv,dtype=int)"
      ],
      "metadata": {
        "colab": {
          "base_uri": "https://localhost:8080/"
        },
        "id": "9VcdIbRJhTFc",
        "outputId": "9c6fb8d6-8e0d-40ce-bc2b-0e40c1d596e4"
      },
      "execution_count": null,
      "outputs": [
        {
          "output_type": "execute_result",
          "data": {
            "text/plain": [
              "array([[1, 0, 0, 0, 0, 0, 0],\n",
              "       [0, 1, 0, 0, 0, 0, 0],\n",
              "       [0, 0, 1, 0, 0, 0, 0],\n",
              "       [0, 0, 0, 1, 0, 0, 0],\n",
              "       [0, 0, 0, 0, 1, 0, 0],\n",
              "       [0, 0, 0, 0, 0, 1, 0],\n",
              "       [0, 0, 0, 0, 0, 0, 0]])"
            ]
          },
          "metadata": {},
          "execution_count": 47
        }
      ]
    },
    {
      "cell_type": "markdown",
      "source": [
        "To validate the wether if the matric that you have solved is really the inverse, we follow this dot product property for a matrix $M$:\n",
        "$$M\\cdot M^{-1} = I$$"
      ],
      "metadata": {
        "id": "XMW_xGGJi1iE"
      }
    },
    {
      "cell_type": "code",
      "source": [
        "squad = np.array([\n",
        "    [1.0, 1.0, 0.5],\n",
        "    [0.7, 0.7, 0.9],\n",
        "    [0.3, 0.3, 1.0]\n",
        "])\n",
        "weights = np.array([\n",
        "    [0.2, 0.2, 0.6]\n",
        "])\n",
        "p_grade = squad @ weights.T\n",
        "p_grade"
      ],
      "metadata": {
        "colab": {
          "base_uri": "https://localhost:8080/"
        },
        "id": "xCeX1a1Ai2A8",
        "outputId": "eeff1fd2-2c00-468b-df6b-7340c2ae877b"
      },
      "execution_count": null,
      "outputs": [
        {
          "output_type": "execute_result",
          "data": {
            "text/plain": [
              "array([[0.7 ],\n",
              "       [0.82],\n",
              "       [0.72]])"
            ]
          },
          "metadata": {},
          "execution_count": 58
        }
      ]
    },
    {
      "cell_type": "markdown",
      "source": [
        "## Activity"
      ],
      "metadata": {
        "id": "pM57tynti6nc"
      }
    },
    {
      "cell_type": "markdown",
      "source": [
        "### Task 1"
      ],
      "metadata": {
        "id": "3cqtoVFUi7Yj"
      }
    },
    {
      "cell_type": "markdown",
      "source": [
        "Prove and implement the remaining 6 matrix multiplication properties. You may create your own matrices in which their shapes should not be lower than $(3,3)$.\n",
        "In your methodology, create individual flowcharts for each property and discuss the property you would then present your proofs or validity of your implementation in the results section by comparing your result to present functions from NumPy."
      ],
      "metadata": {
        "id": "s7A0lNuEi9Vs"
      }
    },
    {
      "cell_type": "code",
      "source": [
        "np.array([])"
      ],
      "metadata": {
        "colab": {
          "base_uri": "https://localhost:8080/"
        },
        "id": "af6_hXcNjAy0",
        "outputId": "db52e82d-2866-473a-a205-363bb0d9c6b4"
      },
      "execution_count": null,
      "outputs": [
        {
          "output_type": "execute_result",
          "data": {
            "text/plain": [
              "array([], dtype=float64)"
            ]
          },
          "metadata": {},
          "execution_count": 59
        }
      ]
    },
    {
      "cell_type": "code",
      "source": [
        ""
      ],
      "metadata": {
        "id": "Fy4AeH6qjIuD"
      },
      "execution_count": null,
      "outputs": []
    },
    {
      "cell_type": "code",
      "source": [
        ""
      ],
      "metadata": {
        "id": "kSOZT_IgjI-W"
      },
      "execution_count": null,
      "outputs": []
    },
    {
      "cell_type": "code",
      "source": [
        ""
      ],
      "metadata": {
        "id": "jTfTM9OCjJVb"
      },
      "execution_count": null,
      "outputs": []
    },
    {
      "cell_type": "code",
      "source": [
        ""
      ],
      "metadata": {
        "id": "lnxabOpBjJsT"
      },
      "execution_count": null,
      "outputs": []
    },
    {
      "cell_type": "markdown",
      "source": [
        "## Conclusion"
      ],
      "metadata": {
        "id": "hDesQ7IGjFP8"
      }
    },
    {
      "cell_type": "markdown",
      "source": [
        "For your conclusion synthesize the concept and application of the laboratory. Briefly discuss what you have learned and achieved in this activity."
      ],
      "metadata": {
        "id": "hMF7RO39jH-E"
      }
    }
  ]
}