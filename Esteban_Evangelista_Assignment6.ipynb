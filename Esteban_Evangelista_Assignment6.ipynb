{
  "nbformat": 4,
  "nbformat_minor": 0,
  "metadata": {
    "colab": {
      "name": "Esteban_Evangelista_Assignment6.ipynb",
      "provenance": [],
      "authorship_tag": "ABX9TyNp0VtjGvUzi2VaR+DB/N4L",
      "include_colab_link": true
    },
    "kernelspec": {
      "name": "python3",
      "display_name": "Python 3"
    },
    "language_info": {
      "name": "python"
    }
  },
  "cells": [
    {
      "cell_type": "markdown",
      "metadata": {
        "id": "view-in-github",
        "colab_type": "text"
      },
      "source": [
        "<a href=\"https://colab.research.google.com/github/janevnglst/Linear-Algebra_ChE_2nd-Sem-2021-2022/blob/main/Esteban_Evangelista_Assignment6.ipynb\" target=\"_parent\"><img src=\"https://colab.research.google.com/assets/colab-badge.svg\" alt=\"Open In Colab\"/></a>"
      ]
    },
    {
      "cell_type": "markdown",
      "source": [
        "# Linear Algebra for ChE\n",
        "## Assignment 6: Matrix Operations"
      ],
      "metadata": {
        "id": "Bm_vGiTFULDK"
      }
    },
    {
      "cell_type": "markdown",
      "source": [
        "Now that you have a fundamental knowledge about representing and operating with vectors as well as the fundamentals of matrices, we'll try to the same operations with matrices and even more."
      ],
      "metadata": {
        "id": "OMdCass3UU7j"
      }
    },
    {
      "cell_type": "markdown",
      "source": [
        "# Objectives"
      ],
      "metadata": {
        "id": "D2ccM7XeUsH6"
      }
    },
    {
      "cell_type": "markdown",
      "source": [
        "At the end of this activity you will be able to:\n",
        "\n",
        "1. Be familiar with the fundamental matrix operations.\n",
        "2. Apply the operations to solve intermediate equations.\n",
        "3. Apply matrix algebra in engineering solutions."
      ],
      "metadata": {
        "id": "cPcQW1zOUs8K"
      }
    },
    {
      "cell_type": "markdown",
      "source": [
        "# Discussion"
      ],
      "metadata": {
        "id": "xCJVyfk6U3Ya"
      }
    },
    {
      "cell_type": "code",
      "source": [
        "import numpy as np\n",
        "import matplotlib.pyplot as plt\n",
        "%matplotlib inline"
      ],
      "metadata": {
        "id": "-3ZTn_ktU8kE"
      },
      "execution_count": 1,
      "outputs": []
    },
    {
      "cell_type": "markdown",
      "source": [
        "# Transposition"
      ],
      "metadata": {
        "id": "APSs4FRgVBL6"
      }
    },
    {
      "cell_type": "markdown",
      "source": [
        "One of the fundamental operations in matrix algebra is Transposition. The transpose of a matrix is done by flipping the values of its elements over its diagonals. With this, the rows and columns from the original matrix will be switched. So for a matrix  its transpose is denoted as $A^T$. So for example:"
      ],
      "metadata": {
        "id": "gYVdGSvNVEYI"
      }
    },
    {
      "cell_type": "markdown",
      "source": [
        "$$\n",
        "A=\\begin{bmatrix} 3 & 6 & 1 \\\\ 1 & -1 & 1 \\\\ -1 & 4 & 2\\end{bmatrix}\\\\\n",
        "A^T=\\begin{bmatrix} 4 & 8 & 3 \\\\ 9 & -6 & 1 \\\\ -2 & 5 & 2\\end{bmatrix}\\\\\n",
        "$$"
      ],
      "metadata": {
        "id": "dmKAB05zVKuy"
      }
    },
    {
      "cell_type": "markdown",
      "source": [
        "This can now be achieved programmatically by using np.transpose() or using the T method."
      ],
      "metadata": {
        "id": "g6ekMiPOWK8r"
      }
    },
    {
      "cell_type": "code",
      "source": [
        "A = np.array([\n",
        "    [5 , 6, 8],\n",
        "    [6, -9, 2],\n",
        "    [2, -5, 3]\n",
        "])\n",
        "A"
      ],
      "metadata": {
        "colab": {
          "base_uri": "https://localhost:8080/"
        },
        "id": "TDTvJ7YcWQPy",
        "outputId": "8e37bff5-1b46-4925-9030-876432ec2669"
      },
      "execution_count": 2,
      "outputs": [
        {
          "output_type": "execute_result",
          "data": {
            "text/plain": [
              "array([[ 5,  6,  8],\n",
              "       [ 6, -9,  2],\n",
              "       [ 2, -5,  3]])"
            ]
          },
          "metadata": {},
          "execution_count": 2
        }
      ]
    },
    {
      "cell_type": "code",
      "source": [
        "AT1 = np.transpose(A)\n",
        "AT1"
      ],
      "metadata": {
        "colab": {
          "base_uri": "https://localhost:8080/"
        },
        "id": "Be8b2WOQWZqS",
        "outputId": "630cc0cf-8af3-480f-8384-e12af024316a"
      },
      "execution_count": 3,
      "outputs": [
        {
          "output_type": "execute_result",
          "data": {
            "text/plain": [
              "array([[ 5,  6,  2],\n",
              "       [ 6, -9, -5],\n",
              "       [ 8,  2,  3]])"
            ]
          },
          "metadata": {},
          "execution_count": 3
        }
      ]
    },
    {
      "cell_type": "code",
      "source": [
        "AT2 = A.T\n",
        "AT2"
      ],
      "metadata": {
        "colab": {
          "base_uri": "https://localhost:8080/"
        },
        "id": "XqkTQUi7Weir",
        "outputId": "19e058ed-cb4e-46d0-dca0-4cf1760811d3"
      },
      "execution_count": 4,
      "outputs": [
        {
          "output_type": "execute_result",
          "data": {
            "text/plain": [
              "array([[ 5,  6,  2],\n",
              "       [ 6, -9, -5],\n",
              "       [ 8,  2,  3]])"
            ]
          },
          "metadata": {},
          "execution_count": 4
        }
      ]
    },
    {
      "cell_type": "code",
      "source": [
        "np.array_equiv(AT1, AT2)"
      ],
      "metadata": {
        "colab": {
          "base_uri": "https://localhost:8080/"
        },
        "id": "sIm9SI18Wi3K",
        "outputId": "8e6c5a7c-fd47-4141-c917-c7556aa6a8f6"
      },
      "execution_count": 5,
      "outputs": [
        {
          "output_type": "execute_result",
          "data": {
            "text/plain": [
              "True"
            ]
          },
          "metadata": {},
          "execution_count": 5
        }
      ]
    },
    {
      "cell_type": "code",
      "source": [
        "B = np.array([\n",
        "    [90,54,12,51],\n",
        "    [28,20,30,65],\n",
        "])\n",
        "B.shape"
      ],
      "metadata": {
        "colab": {
          "base_uri": "https://localhost:8080/"
        },
        "id": "SGbxTvIuWllp",
        "outputId": "08cf3646-7b2e-4576-b34d-7a643e528343"
      },
      "execution_count": 6,
      "outputs": [
        {
          "output_type": "execute_result",
          "data": {
            "text/plain": [
              "(2, 4)"
            ]
          },
          "metadata": {},
          "execution_count": 6
        }
      ]
    },
    {
      "cell_type": "code",
      "source": [
        "np.transpose(B).shape"
      ],
      "metadata": {
        "colab": {
          "base_uri": "https://localhost:8080/"
        },
        "id": "J5O4Fs8zWse6",
        "outputId": "f70bcab7-a5c8-4a1c-f47e-8032236df137"
      },
      "execution_count": 7,
      "outputs": [
        {
          "output_type": "execute_result",
          "data": {
            "text/plain": [
              "(4, 2)"
            ]
          },
          "metadata": {},
          "execution_count": 7
        }
      ]
    },
    {
      "cell_type": "code",
      "source": [
        "B.T.shape"
      ],
      "metadata": {
        "colab": {
          "base_uri": "https://localhost:8080/"
        },
        "id": "4e-lYfVqWu2i",
        "outputId": "e7fb020f-28fa-4aaf-ac98-3b360f1c2b36"
      },
      "execution_count": 8,
      "outputs": [
        {
          "output_type": "execute_result",
          "data": {
            "text/plain": [
              "(4, 2)"
            ]
          },
          "metadata": {},
          "execution_count": 8
        }
      ]
    },
    {
      "cell_type": "markdown",
      "source": [
        "## Try to create your own matrix (you can try non-squares) to test transposition."
      ],
      "metadata": {
        "id": "JB-2yqKlX56U"
      }
    },
    {
      "cell_type": "code",
      "source": [
        "## Try out your code here.\n",
        "Z=np.array([\n",
        "    [23,65,92],\n",
        "    [19,10,12]        \n",
        "])\n",
        "Z.shape"
      ],
      "metadata": {
        "colab": {
          "base_uri": "https://localhost:8080/"
        },
        "id": "2akX2Z0ZX72L",
        "outputId": "f0bc3bf4-938a-4ff1-a02e-3a739738370f"
      },
      "execution_count": 9,
      "outputs": [
        {
          "output_type": "execute_result",
          "data": {
            "text/plain": [
              "(2, 3)"
            ]
          },
          "metadata": {},
          "execution_count": 9
        }
      ]
    },
    {
      "cell_type": "code",
      "source": [
        "np.transpose(Z).shape"
      ],
      "metadata": {
        "colab": {
          "base_uri": "https://localhost:8080/"
        },
        "id": "i6mjTy1iYRIC",
        "outputId": "115756f2-eb27-4653-dca3-2cf4912a343a"
      },
      "execution_count": 10,
      "outputs": [
        {
          "output_type": "execute_result",
          "data": {
            "text/plain": [
              "(3, 2)"
            ]
          },
          "metadata": {},
          "execution_count": 10
        }
      ]
    },
    {
      "cell_type": "code",
      "source": [
        "Z.T.shape"
      ],
      "metadata": {
        "colab": {
          "base_uri": "https://localhost:8080/"
        },
        "id": "3cpNkxe8YSMa",
        "outputId": "28dc8127-70eb-4605-db38-7f0ec7b53590"
      },
      "execution_count": 11,
      "outputs": [
        {
          "output_type": "execute_result",
          "data": {
            "text/plain": [
              "(3, 2)"
            ]
          },
          "metadata": {},
          "execution_count": 11
        }
      ]
    },
    {
      "cell_type": "code",
      "source": [
        "ZT = Z.T\n",
        "ZT"
      ],
      "metadata": {
        "colab": {
          "base_uri": "https://localhost:8080/"
        },
        "id": "NXi4DRh-YUTs",
        "outputId": "e57d0fb6-6b6f-42e2-d205-2e65ad99d0af"
      },
      "execution_count": 12,
      "outputs": [
        {
          "output_type": "execute_result",
          "data": {
            "text/plain": [
              "array([[23, 19],\n",
              "       [65, 10],\n",
              "       [92, 12]])"
            ]
          },
          "metadata": {},
          "execution_count": 12
        }
      ]
    },
    {
      "cell_type": "markdown",
      "source": [
        "# Dot Product / Inner Product"
      ],
      "metadata": {
        "id": "19z23lVfYbuM"
      }
    },
    {
      "cell_type": "markdown",
      "source": [
        "If you recall the dot product from laboratory activity before, we will try to implement the same operation with matrices. In matrix dot product we are going to get the sum of products of the vectors by row-column pairs. So if we have two matrices $A$ and $T$:"
      ],
      "metadata": {
        "id": "jyFDJyCmYfTa"
      }
    },
    {
      "cell_type": "markdown",
      "source": [
        "$$X = \\begin{bmatrix}x_{(0,0)}&x_{(0,1)}\\\\ x_{(1,0)}&x_{(1,1)}\\end{bmatrix}, Y = \\begin{bmatrix}y_{(0,0)}&y_{(0,1)}\\\\ y_{(1,0)}&y_{(1,1)}\\end{bmatrix}$$"
      ],
      "metadata": {
        "id": "9L630r-lbNMV"
      }
    },
    {
      "cell_type": "markdown",
      "source": [
        "The dot product will then be computed as:"
      ],
      "metadata": {
        "id": "CUfDNZE4YuJS"
      }
    },
    {
      "cell_type": "markdown",
      "source": [
        "$$X \\cdot Y= \\begin{bmatrix} x_{(0,0)}*y_{(0,0)} + x_{(0,1)}*y_{(1,0)} & x_{(0,0)}*y_{(0,1)} + x_{(0,1)}*y_{(1,1)} \\\\  x_{(1,0)}*y_{(0,0)} + x_{(1,1)}*y_{(1,0)} & x_{(1,0)}*y_{(0,1)} + x_{(1,1)}*y_{(1,1)}\n",
        "\\end{bmatrix}$$"
      ],
      "metadata": {
        "id": "hKa4tXzBbN_T"
      }
    },
    {
      "cell_type": "markdown",
      "source": [
        "So if we assign values to $X$ and $Y$:"
      ],
      "metadata": {
        "id": "caWRTIPdZHAq"
      }
    },
    {
      "cell_type": "markdown",
      "source": [
        "$$X = \\begin{bmatrix}42&26\\\\ 0&1\\end{bmatrix}, Y = \\begin{bmatrix}-1&0\\\\ 2&2\\end{bmatrix}$$"
      ],
      "metadata": {
        "id": "5ImrIYA4bREz"
      }
    },
    {
      "cell_type": "markdown",
      "source": [
        "$$X \\cdot Y= \\begin{bmatrix} 1*-1 + 2*2 & 1*0 + 2*2 \\\\  0*-1 + 1*2 & 0*0 + 1*2 \\end{bmatrix} = \\begin{bmatrix} 3 & 4 \\\\2 & 2 \\end{bmatrix}$$"
      ],
      "metadata": {
        "id": "arhH0t26gwZG"
      }
    },
    {
      "cell_type": "markdown",
      "source": [
        "This could be achieved programmatically using np.dot(), np.matmul() or the @ operator."
      ],
      "metadata": {
        "id": "yz8LSxR8ZNLn"
      }
    },
    {
      "cell_type": "code",
      "source": [
        "X = np.array([\n",
        "    [18,29],\n",
        "    [40,61]\n",
        "])\n",
        "Y = np.array([\n",
        "    [-15,60],\n",
        "    [29,27]\n",
        "])"
      ],
      "metadata": {
        "id": "HvWhwhBYZQZJ"
      },
      "execution_count": 13,
      "outputs": []
    },
    {
      "cell_type": "code",
      "source": [
        "np.array_equiv(X, Y)"
      ],
      "metadata": {
        "colab": {
          "base_uri": "https://localhost:8080/"
        },
        "id": "QfDEQbJrZXpL",
        "outputId": "0511d54e-742b-4f53-d275-4ce920ae6339"
      },
      "execution_count": 14,
      "outputs": [
        {
          "output_type": "execute_result",
          "data": {
            "text/plain": [
              "False"
            ]
          },
          "metadata": {},
          "execution_count": 14
        }
      ]
    },
    {
      "cell_type": "code",
      "source": [
        "np.dot(X,Y)"
      ],
      "metadata": {
        "colab": {
          "base_uri": "https://localhost:8080/"
        },
        "id": "2d99-jvhZYgL",
        "outputId": "72e28031-5a13-404d-dfa0-a7ffa9db7dba"
      },
      "execution_count": 15,
      "outputs": [
        {
          "output_type": "execute_result",
          "data": {
            "text/plain": [
              "array([[ 571, 1863],\n",
              "       [1169, 4047]])"
            ]
          },
          "metadata": {},
          "execution_count": 15
        }
      ]
    },
    {
      "cell_type": "code",
      "source": [
        "X.dot(Y)"
      ],
      "metadata": {
        "colab": {
          "base_uri": "https://localhost:8080/"
        },
        "id": "ah6ohDfTZaqD",
        "outputId": "12d117bb-131c-4220-edee-acb579dff51c"
      },
      "execution_count": 16,
      "outputs": [
        {
          "output_type": "execute_result",
          "data": {
            "text/plain": [
              "array([[ 571, 1863],\n",
              "       [1169, 4047]])"
            ]
          },
          "metadata": {},
          "execution_count": 16
        }
      ]
    },
    {
      "cell_type": "code",
      "source": [
        "X @ Y"
      ],
      "metadata": {
        "colab": {
          "base_uri": "https://localhost:8080/"
        },
        "id": "AYN4-954ZciK",
        "outputId": "a3b3e014-6262-482b-8da0-acbb0e71873b"
      },
      "execution_count": 17,
      "outputs": [
        {
          "output_type": "execute_result",
          "data": {
            "text/plain": [
              "array([[ 571, 1863],\n",
              "       [1169, 4047]])"
            ]
          },
          "metadata": {},
          "execution_count": 17
        }
      ]
    },
    {
      "cell_type": "code",
      "source": [
        "np.matmul(X,Y)"
      ],
      "metadata": {
        "colab": {
          "base_uri": "https://localhost:8080/"
        },
        "id": "l7V4uDGDZewr",
        "outputId": "9f31e998-2379-4e70-9720-5d67248d34f9"
      },
      "execution_count": 18,
      "outputs": [
        {
          "output_type": "execute_result",
          "data": {
            "text/plain": [
              "array([[ 571, 1863],\n",
              "       [1169, 4047]])"
            ]
          },
          "metadata": {},
          "execution_count": 18
        }
      ]
    },
    {
      "cell_type": "code",
      "source": [
        "D = np.array([\n",
        "    [36,27,23],\n",
        "    [38,16,37],\n",
        "    [59,36,21]\n",
        "])\n",
        "E = np.array([\n",
        "    [-28,90,51],\n",
        "    [29,48,66],\n",
        "    [78,45,31]\n",
        "])"
      ],
      "metadata": {
        "id": "NLezL_VBZhOd"
      },
      "execution_count": 19,
      "outputs": []
    },
    {
      "cell_type": "code",
      "source": [
        "D @ E"
      ],
      "metadata": {
        "colab": {
          "base_uri": "https://localhost:8080/"
        },
        "id": "LZo75jBOZtpM",
        "outputId": "33710980-bf70-4220-83d9-6b280a4bb751"
      },
      "execution_count": 20,
      "outputs": [
        {
          "output_type": "execute_result",
          "data": {
            "text/plain": [
              "array([[1569, 5571, 4331],\n",
              "       [2286, 5853, 4141],\n",
              "       [1030, 7983, 6036]])"
            ]
          },
          "metadata": {},
          "execution_count": 20
        }
      ]
    },
    {
      "cell_type": "code",
      "source": [
        "D.dot(E)"
      ],
      "metadata": {
        "colab": {
          "base_uri": "https://localhost:8080/"
        },
        "id": "CQZJ32H9ZyhD",
        "outputId": "2f7b911c-6915-46a6-95ca-b6f583a38b4a"
      },
      "execution_count": 21,
      "outputs": [
        {
          "output_type": "execute_result",
          "data": {
            "text/plain": [
              "array([[1569, 5571, 4331],\n",
              "       [2286, 5853, 4141],\n",
              "       [1030, 7983, 6036]])"
            ]
          },
          "metadata": {},
          "execution_count": 21
        }
      ]
    },
    {
      "cell_type": "code",
      "source": [
        "np.matmul(D, E)"
      ],
      "metadata": {
        "colab": {
          "base_uri": "https://localhost:8080/"
        },
        "id": "VWUm2nvzZzs7",
        "outputId": "dc60f144-fbe8-42fa-cad2-ba975784f5c9"
      },
      "execution_count": 22,
      "outputs": [
        {
          "output_type": "execute_result",
          "data": {
            "text/plain": [
              "array([[1569, 5571, 4331],\n",
              "       [2286, 5853, 4141],\n",
              "       [1030, 7983, 6036]])"
            ]
          },
          "metadata": {},
          "execution_count": 22
        }
      ]
    },
    {
      "cell_type": "code",
      "source": [
        "np.dot(D, E)"
      ],
      "metadata": {
        "colab": {
          "base_uri": "https://localhost:8080/"
        },
        "id": "fabyOieJZ1xj",
        "outputId": "323c7427-63b8-4f5d-9967-f609f5831efe"
      },
      "execution_count": null,
      "outputs": [
        {
          "output_type": "execute_result",
          "data": {
            "text/plain": [
              "array([[1569, 5571, 4331],\n",
              "       [2286, 5853, 4141],\n",
              "       [1030, 7983, 6036]])"
            ]
          },
          "metadata": {},
          "execution_count": 78
        }
      ]
    },
    {
      "cell_type": "markdown",
      "source": [
        "In matrix dot products there are additional rules compared with vector dot products. Since vector dot products were just in one dimension there are less restrictions. Since now we are dealing with Rank 2 vectors we need to consider some rules:"
      ],
      "metadata": {
        "id": "jVzhKKmsZ46r"
      }
    },
    {
      "cell_type": "markdown",
      "source": [
        "# Rule 1: The inner dimensions of the two matrices in question must be the same."
      ],
      "metadata": {
        "id": "jrH--xIdZ686"
      }
    },
    {
      "cell_type": "markdown",
      "source": [
        "So given a matrix $A$ with a shape of $(a,b)$ where  and  are any integers. If we want to do a dot product between $A$ and another matrix $B$, then matrix $B$ should have a shape of $(b,c)$ where $b$ and $c$ are any integers. So for given the following matrices:"
      ],
      "metadata": {
        "id": "WhIDZ3RzZ9Ya"
      }
    },
    {
      "cell_type": "markdown",
      "source": [
        "So in this case $A$ has a shape of$(3,2)$ , $B$ has a shape of $(2,3)$ and $C$ has a shape of . So the only matrix pairs that is eligible to perform dot product is matrices $A.C$ , or $B.C$."
      ],
      "metadata": {
        "id": "j6ysfPRGdVES"
      }
    },
    {
      "cell_type": "code",
      "source": [
        "A = np.array([\n",
        "    [24, 42],\n",
        "    [59, -25],\n",
        "    [90, 19]\n",
        "])\n",
        "B = np.array([\n",
        "    [12,81],\n",
        "    [38,35],\n",
        "    [-15,-26]\n",
        "])\n",
        "C = np.array([\n",
        "    [70,10,18],\n",
        "    [17,14,28]\n",
        "])\n",
        "print(A.shape)\n",
        "print(B.shape)\n",
        "print(C.shape)"
      ],
      "metadata": {
        "colab": {
          "base_uri": "https://localhost:8080/"
        },
        "id": "OLvcf6NrcJMK",
        "outputId": "2c8fd428-932e-460f-ab85-f48eebc12d08"
      },
      "execution_count": null,
      "outputs": [
        {
          "output_type": "stream",
          "name": "stdout",
          "text": [
            "(3, 2)\n",
            "(3, 2)\n",
            "(2, 3)\n"
          ]
        }
      ]
    },
    {
      "cell_type": "code",
      "source": [
        "A @ C"
      ],
      "metadata": {
        "colab": {
          "base_uri": "https://localhost:8080/"
        },
        "id": "aJGbll2bcoPk",
        "outputId": "0d7616ef-5ed1-4cde-ea7a-5c7c8626432b"
      },
      "execution_count": null,
      "outputs": [
        {
          "output_type": "execute_result",
          "data": {
            "text/plain": [
              "array([[2394,  828, 1608],\n",
              "       [3705,  240,  362],\n",
              "       [6623, 1166, 2152]])"
            ]
          },
          "metadata": {},
          "execution_count": 62
        }
      ]
    },
    {
      "cell_type": "code",
      "source": [
        "B @ C"
      ],
      "metadata": {
        "colab": {
          "base_uri": "https://localhost:8080/"
        },
        "id": "FAlYW_vscpIz",
        "outputId": "f50a5132-db00-4304-cd71-3c24ee1e1805"
      },
      "execution_count": null,
      "outputs": [
        {
          "output_type": "execute_result",
          "data": {
            "text/plain": [
              "array([[ 2217,  1254,  2484],\n",
              "       [ 3255,   870,  1664],\n",
              "       [-1492,  -514,  -998]])"
            ]
          },
          "metadata": {},
          "execution_count": 63
        }
      ]
    },
    {
      "cell_type": "markdown",
      "source": [
        "If you would notice the shape of the dot product changed and its shape is not the same as any of the matrices we used. The shape of a dot product is actually derived from the shapes of the matrices used. So recall matrix $A$ with a shape of $(a,b)$ and matrix $B$ with a shape of $(b,c)$, $A.B$ should have a shape $(a,c)$."
      ],
      "metadata": {
        "id": "uo-1wnH4eSAN"
      }
    },
    {
      "cell_type": "code",
      "source": [
        "A @ B.T"
      ],
      "metadata": {
        "colab": {
          "base_uri": "https://localhost:8080/"
        },
        "id": "R7LpJczbcs3c",
        "outputId": "3de3bf39-fe74-409e-b7ed-b15cb53c4d7b"
      },
      "execution_count": null,
      "outputs": [
        {
          "output_type": "execute_result",
          "data": {
            "text/plain": [
              "array([[ 3690,  2382, -1452],\n",
              "       [-1317,  1367,  -235],\n",
              "       [ 2619,  4085, -1844]])"
            ]
          },
          "metadata": {},
          "execution_count": 64
        }
      ]
    },
    {
      "cell_type": "code",
      "source": [
        "X = np.array([\n",
        "    [15,22,34,90]\n",
        "])\n",
        "Y = np.array([\n",
        "    [16,40,43,-11]\n",
        "])\n",
        "print(X.shape)\n",
        "print(Y.shape)"
      ],
      "metadata": {
        "colab": {
          "base_uri": "https://localhost:8080/"
        },
        "id": "nB_cg7gqct0y",
        "outputId": "b8496337-2151-40cd-9dc4-c887fc21f538"
      },
      "execution_count": null,
      "outputs": [
        {
          "output_type": "stream",
          "name": "stdout",
          "text": [
            "(1, 4)\n",
            "(1, 4)\n"
          ]
        }
      ]
    },
    {
      "cell_type": "code",
      "source": [
        "Y.T @ X"
      ],
      "metadata": {
        "colab": {
          "base_uri": "https://localhost:8080/"
        },
        "id": "bXSk4Eipc1TD",
        "outputId": "01be46ff-8fd0-4862-c1b0-9f83b952c7f6"
      },
      "execution_count": null,
      "outputs": [
        {
          "output_type": "execute_result",
          "data": {
            "text/plain": [
              "array([[ 240,  352,  544, 1440],\n",
              "       [ 600,  880, 1360, 3600],\n",
              "       [ 645,  946, 1462, 3870],\n",
              "       [-165, -242, -374, -990]])"
            ]
          },
          "metadata": {},
          "execution_count": 66
        }
      ]
    },
    {
      "cell_type": "code",
      "source": [
        "X @ Y.T"
      ],
      "metadata": {
        "colab": {
          "base_uri": "https://localhost:8080/"
        },
        "id": "86TsXzasc2Xz",
        "outputId": "67d1096c-4834-43b4-c0c2-4669558b3e57"
      },
      "execution_count": null,
      "outputs": [
        {
          "output_type": "execute_result",
          "data": {
            "text/plain": [
              "array([[1592]])"
            ]
          },
          "metadata": {},
          "execution_count": 67
        }
      ]
    },
    {
      "cell_type": "markdown",
      "source": [
        "And youcan see that when you try to multiply A and B, it returns ValueError pertaining to matrix shape mismatch."
      ],
      "metadata": {
        "id": "kXyGtVzic6B7"
      }
    },
    {
      "cell_type": "markdown",
      "source": [
        "# Rule 2: Dot Product has special properties"
      ],
      "metadata": {
        "id": "ZEtLLm65eHw9"
      }
    },
    {
      "cell_type": "markdown",
      "source": [
        "Dot products are prevalent in matrix algebra, this implies that it has several unique properties and it should be considered when formulation solutions:\n",
        "\n"
      ],
      "metadata": {
        "id": "ZZzTA8UmeJLa"
      }
    },
    {
      "cell_type": "markdown",
      "source": [
        "1. $A.B ≠ B.A$\n",
        "2. $A.(B.C) = (A.B).C$\n",
        "3. $A.(B+C) = A.B+A.C$\n",
        "4. $(B+C).A = B.A+C.A$\n",
        "5. $A.I = A$\n",
        "6. $A\\cdot \\emptyset = \\emptyset$ "
      ],
      "metadata": {
        "id": "D94JmFk5etBT"
      }
    },
    {
      "cell_type": "code",
      "source": [
        "A = np.array([\n",
        "     [22,33,44],\n",
        "     [44,55,66],\n",
        "     [77,88,99]          \n",
        "])\n",
        "B = np.array([\n",
        "    [45,36,58],\n",
        "    [49,59,67],\n",
        "    [33,26,83]\n",
        "])"
      ],
      "metadata": {
        "id": "loA1jVoRXXBw"
      },
      "execution_count": null,
      "outputs": []
    },
    {
      "cell_type": "code",
      "source": [
        "np.array_equiv(A, B)"
      ],
      "metadata": {
        "id": "SxN1HotqYaa8",
        "outputId": "09a6a401-a9b2-42f8-ade2-4562695cdde8",
        "colab": {
          "base_uri": "https://localhost:8080/"
        }
      },
      "execution_count": null,
      "outputs": [
        {
          "output_type": "execute_result",
          "data": {
            "text/plain": [
              "False"
            ]
          },
          "metadata": {},
          "execution_count": 44
        }
      ]
    },
    {
      "cell_type": "markdown",
      "source": [
        "I'll be doing just one of the properties and I'll leave the rest to test your skills!"
      ],
      "metadata": {
        "id": "309dHWm8etUL"
      }
    },
    {
      "cell_type": "code",
      "source": [
        "A = np.array([\n",
        "    [33,23,14],\n",
        "    [34,45,21],\n",
        "    [14,16,15]\n",
        "])\n",
        "B = np.array([\n",
        "    [44,16,68],\n",
        "    [41,19,97],\n",
        "    [15,46,83]\n",
        "])\n",
        "C = np.array([\n",
        "    [21,13,94],\n",
        "    [20,14,15],\n",
        "    [12,62,12]\n",
        "])"
      ],
      "metadata": {
        "id": "fjzJlGGEf6qj"
      },
      "execution_count": null,
      "outputs": []
    },
    {
      "cell_type": "code",
      "source": [
        "np.eye(3)"
      ],
      "metadata": {
        "colab": {
          "base_uri": "https://localhost:8080/"
        },
        "id": "nekenH39gVkc",
        "outputId": "3d79b9bc-0e3d-4c3f-a1a6-196916904cd6"
      },
      "execution_count": null,
      "outputs": [
        {
          "output_type": "execute_result",
          "data": {
            "text/plain": [
              "array([[1., 0., 0.],\n",
              "       [0., 1., 0.],\n",
              "       [0., 0., 1.]])"
            ]
          },
          "metadata": {},
          "execution_count": 45
        }
      ]
    },
    {
      "cell_type": "code",
      "source": [
        "A.dot(np.eye(3))"
      ],
      "metadata": {
        "colab": {
          "base_uri": "https://localhost:8080/"
        },
        "id": "1XzkT7a2gWgY",
        "outputId": "520eb741-4516-46f0-9530-3b73101f29a3"
      },
      "execution_count": null,
      "outputs": [
        {
          "output_type": "execute_result",
          "data": {
            "text/plain": [
              "array([[22., 33., 44.],\n",
              "       [44., 55., 66.],\n",
              "       [77., 88., 99.]])"
            ]
          },
          "metadata": {},
          "execution_count": 46
        }
      ]
    },
    {
      "cell_type": "code",
      "source": [
        "np.array_equal(A@B, B@A)"
      ],
      "metadata": {
        "colab": {
          "base_uri": "https://localhost:8080/"
        },
        "id": "Y6FvtH0OgZn7",
        "outputId": "f573027a-1f6c-4518-fa83-cf54b6f52b43"
      },
      "execution_count": null,
      "outputs": [
        {
          "output_type": "execute_result",
          "data": {
            "text/plain": [
              "False"
            ]
          },
          "metadata": {},
          "execution_count": 47
        }
      ]
    },
    {
      "cell_type": "code",
      "source": [
        "E = A @ (B @ C)\n",
        "E"
      ],
      "metadata": {
        "colab": {
          "base_uri": "https://localhost:8080/"
        },
        "id": "YeoxeH7Ogalz",
        "outputId": "f15ddc0e-0de1-4046-8f0c-b8b711fc9752"
      },
      "execution_count": null,
      "outputs": [
        {
          "output_type": "execute_result",
          "data": {
            "text/plain": [
              "array([[154529, 405885, 336649],\n",
              "       [225116, 602678, 480179],\n",
              "       [100785, 268951, 203976]])"
            ]
          },
          "metadata": {},
          "execution_count": 84
        }
      ]
    },
    {
      "cell_type": "code",
      "source": [
        "F = (A @ B) @ C\n",
        "F"
      ],
      "metadata": {
        "colab": {
          "base_uri": "https://localhost:8080/"
        },
        "id": "5IRupEf8gcfz",
        "outputId": "7774a3bc-45d9-4a13-c0e2-8238fe09c799"
      },
      "execution_count": null,
      "outputs": [
        {
          "output_type": "execute_result",
          "data": {
            "text/plain": [
              "array([[154529, 405885, 336649],\n",
              "       [225116, 602678, 480179],\n",
              "       [100785, 268951, 203976]])"
            ]
          },
          "metadata": {},
          "execution_count": 85
        }
      ]
    },
    {
      "cell_type": "code",
      "source": [
        "np.array_equal(E, X)"
      ],
      "metadata": {
        "colab": {
          "base_uri": "https://localhost:8080/"
        },
        "id": "RPi3SAUwgefj",
        "outputId": "d8d12f76-74d4-4d05-8ff3-510531675ac7"
      },
      "execution_count": null,
      "outputs": [
        {
          "output_type": "execute_result",
          "data": {
            "text/plain": [
              "False"
            ]
          },
          "metadata": {},
          "execution_count": 86
        }
      ]
    },
    {
      "cell_type": "code",
      "source": [
        "np.array_equiv(E, F)"
      ],
      "metadata": {
        "colab": {
          "base_uri": "https://localhost:8080/"
        },
        "id": "1-B4lZc5ggZz",
        "outputId": "5022fda7-4d19-46a3-e7bf-58b72d2ea6d5"
      },
      "execution_count": null,
      "outputs": [
        {
          "output_type": "execute_result",
          "data": {
            "text/plain": [
              "True"
            ]
          },
          "metadata": {},
          "execution_count": 87
        }
      ]
    },
    {
      "cell_type": "code",
      "source": [
        "A @ E"
      ],
      "metadata": {
        "colab": {
          "base_uri": "https://localhost:8080/"
        },
        "id": "E2_2523jh3D7",
        "outputId": "2d45077c-5139-4d29-8bcf-31f84bbf07b9"
      },
      "execution_count": null,
      "outputs": [
        {
          "output_type": "execute_result",
          "data": {
            "text/plain": [
              "array([[11688115, 31021113, 25009198],\n",
              "       [17500691, 46568571, 37337617],\n",
              "       [ 7277037, 19359503, 15455590]])"
            ]
          },
          "metadata": {},
          "execution_count": 88
        }
      ]
    },
    {
      "cell_type": "code",
      "source": [
        "z_mat = np.zeros(A.shape)\n",
        "z_mat"
      ],
      "metadata": {
        "colab": {
          "base_uri": "https://localhost:8080/"
        },
        "id": "p-K21mwMh4ub",
        "outputId": "bb14d516-6a12-46b0-f81a-69480f4b0f44"
      },
      "execution_count": null,
      "outputs": [
        {
          "output_type": "execute_result",
          "data": {
            "text/plain": [
              "array([[0., 0., 0.],\n",
              "       [0., 0., 0.],\n",
              "       [0., 0., 0.]])"
            ]
          },
          "metadata": {},
          "execution_count": 89
        }
      ]
    },
    {
      "cell_type": "code",
      "source": [
        "a_dot_z = A.dot(np.zeros(A.shape))\n",
        "a_dot_z"
      ],
      "metadata": {
        "colab": {
          "base_uri": "https://localhost:8080/"
        },
        "id": "WalYTJrnh7nI",
        "outputId": "42d2b433-d700-40f3-e588-ba5c17414ef7"
      },
      "execution_count": null,
      "outputs": [
        {
          "output_type": "execute_result",
          "data": {
            "text/plain": [
              "array([[0., 0., 0.],\n",
              "       [0., 0., 0.],\n",
              "       [0., 0., 0.]])"
            ]
          },
          "metadata": {},
          "execution_count": 90
        }
      ]
    },
    {
      "cell_type": "code",
      "source": [
        "np.array_equal(a_dot_z,z_mat)"
      ],
      "metadata": {
        "colab": {
          "base_uri": "https://localhost:8080/"
        },
        "id": "Zu0KfwYJh9tE",
        "outputId": "d22553a7-f297-4aa0-f785-21af14d613cc"
      },
      "execution_count": null,
      "outputs": [
        {
          "output_type": "execute_result",
          "data": {
            "text/plain": [
              "True"
            ]
          },
          "metadata": {},
          "execution_count": 91
        }
      ]
    },
    {
      "cell_type": "code",
      "source": [
        "null_mat = np.empty(A.shape, dtype=float)\n",
        "null = np.array(null_mat,dtype=float)\n",
        "print(null)\n",
        "np.allclose(a_dot_z,null)"
      ],
      "metadata": {
        "colab": {
          "base_uri": "https://localhost:8080/"
        },
        "id": "nWBvFpOFiAYc",
        "outputId": "8c274514-9dba-4771-ab04-ae2635d81bcd"
      },
      "execution_count": null,
      "outputs": [
        {
          "output_type": "stream",
          "name": "stdout",
          "text": [
            "[[0. 0. 0.]\n",
            " [0. 0. 0.]\n",
            " [0. 0. 0.]]\n"
          ]
        },
        {
          "output_type": "execute_result",
          "data": {
            "text/plain": [
              "True"
            ]
          },
          "metadata": {},
          "execution_count": 92
        }
      ]
    },
    {
      "cell_type": "markdown",
      "source": [
        "## Determinant"
      ],
      "metadata": {
        "id": "fOj8Vc1kiFD7"
      }
    },
    {
      "cell_type": "markdown",
      "source": [
        "A determinant is a scalar value derived from a square matrix. The determinant is a fundamental and important value used in matrix algebra. Although it will not be evident in this laboratory on how it can be used practically, but it will be reatly used in future lessons.\n",
        "\n",
        "The determinant of some matrix $A$ is denoted as $det(A)$ or $|A|$. So let's say $A$ is represented as:\n",
        "$$A = \\begin{bmatrix}a_{(0,0)}&a_{(0,1)}\\\\a_{(1,0)}&a_{(1,1)}\\end{bmatrix}$$\n",
        "We can compute for the determinant as:\n",
        "$$|A| = a_{(0,0)}*a_{(1,1)} - a_{(1,0)}*a_{(0,1)}$$\n",
        "So if we have $A$ as:\n",
        "$$A = \\begin{bmatrix}1&4\\\\0&3\\end{bmatrix}, |A| = 3$$\n",
        "\n",
        "But you might wonder how about square matrices beyond the shape $(2,2)$? We can approach this problem by using several methods such as co-factor expansion and the minors method. This can be taught in the lecture of the laboratory but we can achieve the strenuous computation of high-dimensional matrices programmatically using Python. We can achieve this by using `np.linalg.det()`."
      ],
      "metadata": {
        "id": "8BBs77ZZiH-O"
      }
    },
    {
      "cell_type": "code",
      "source": [
        "A = np.array([\n",
        "    [12,34],\n",
        "    [20,53]\n",
        "])\n",
        "np.linalg.det(A)"
      ],
      "metadata": {
        "colab": {
          "base_uri": "https://localhost:8080/"
        },
        "id": "05P1B-cfiMJj",
        "outputId": "295db8c9-2871-4a52-fd58-392624bce6a6"
      },
      "execution_count": null,
      "outputs": [
        {
          "output_type": "execute_result",
          "data": {
            "text/plain": [
              "-43.999999999999915"
            ]
          },
          "metadata": {},
          "execution_count": 93
        }
      ]
    },
    {
      "cell_type": "code",
      "source": [
        "## Now other mathematics classes would require you to solve this by hand, \n",
        "## and that is great for practicing your memorization and coordination skills \n",
        "## but in this class we aim for simplicity and speed so we'll use programming\n",
        "## but it's completely fine if you want to try to solve this one by hand.\n",
        "B = np.array([\n",
        "    [31,23,53,64],\n",
        "    [30,35,14,33],\n",
        "    [34,14,84,23],\n",
        "    [53,23,63,38]\n",
        "])\n",
        "np.linalg.det(B)"
      ],
      "metadata": {
        "colab": {
          "base_uri": "https://localhost:8080/"
        },
        "id": "bWqERlQ5iYS0",
        "outputId": "64a56858-469e-4b67-a549-f1662a1f01f2"
      },
      "execution_count": null,
      "outputs": [
        {
          "output_type": "execute_result",
          "data": {
            "text/plain": [
              "-1865095.9999999986"
            ]
          },
          "metadata": {},
          "execution_count": 94
        }
      ]
    },
    {
      "cell_type": "markdown",
      "source": [
        "## Inverse"
      ],
      "metadata": {
        "id": "s6QtrPoMigzd"
      }
    },
    {
      "cell_type": "markdown",
      "source": [
        "The inverse of a matrix is another fundamental operation in matrix algebra. Determining the inverse of a matrix let us determine if its solvability and its characteristic as a system of linear equation — we'll expand on this in the nect module. Another use of the inverse matrix is solving the problem of divisibility between matrices. Although element-wise division exists but dividing the entire concept of matrices does not exists. Inverse matrices provides a related operation that could have the same concept of \"dividing\" matrices.\n",
        "\n",
        "Now to determine the inverse of a matrix we need to perform several steps. So let's say we have a matrix $M$:\n",
        "$$M = \\begin{bmatrix}1&7\\\\-3&5\\end{bmatrix}$$\n",
        "First, we need to get the determinant of $M$.\n",
        "$$|M| = (1)(5)-(-3)(7) = 26$$\n",
        "Next, we need to reform the matrix into the inverse form:\n",
        "$$M^{-1} = \\frac{1}{|M|} \\begin{bmatrix} m_{(1,1)} & -m_{(0,1)} \\\\ -m_{(1,0)} & m_{(0,0)}\\end{bmatrix}$$\n",
        "So that will be:\n",
        "$$M^{-1} = \\frac{1}{26} \\begin{bmatrix} 5 & -7 \\\\ 3 & 1\\end{bmatrix} = \\begin{bmatrix} \\frac{5}{26} & \\frac{-7}{26} \\\\ \\frac{3}{26} & \\frac{1}{26}\\end{bmatrix}$$\n",
        "For higher-dimension matrices you might need to use co-factors, minors, adjugates, and other reduction techinques. To solve this programmatially we can use `np.linalg.inv()`."
      ],
      "metadata": {
        "id": "qpbCKXnoikNj"
      }
    },
    {
      "cell_type": "code",
      "source": [
        "M = np.array([\n",
        "    [15,79],\n",
        "    [-35, 55]\n",
        "])\n",
        "\n",
        "np.array(M @ np.linalg.inv(M), dtype=int)"
      ],
      "metadata": {
        "colab": {
          "base_uri": "https://localhost:8080/"
        },
        "id": "Gr6Au8UTinB7",
        "outputId": "faf8770a-55bd-4cd0-a335-a2753be3221e"
      },
      "execution_count": null,
      "outputs": [
        {
          "output_type": "execute_result",
          "data": {
            "text/plain": [
              "array([[1, 0],\n",
              "       [0, 1]])"
            ]
          },
          "metadata": {},
          "execution_count": 95
        }
      ]
    },
    {
      "cell_type": "code",
      "source": [
        "P = np.array([\n",
        "              [64, 29, 60],\n",
        "              [24, 42, -41],\n",
        "              [32, 62, 72]\n",
        "])\n",
        "Q = np.linalg.inv(P)\n",
        "Q"
      ],
      "metadata": {
        "colab": {
          "base_uri": "https://localhost:8080/"
        },
        "id": "ApjJM8B7hBdr",
        "outputId": "ed5035aa-aa14-4828-f36f-8f0a81533af2"
      },
      "execution_count": null,
      "outputs": [
        {
          "output_type": "execute_result",
          "data": {
            "text/plain": [
              "array([[ 0.02011536,  0.005898  , -0.01340422],\n",
              "       [-0.01098647,  0.00971435,  0.01468717],\n",
              "       [ 0.00052041, -0.01098647,  0.00719903]])"
            ]
          },
          "metadata": {},
          "execution_count": 96
        }
      ]
    },
    {
      "cell_type": "code",
      "source": [
        "P @ Q"
      ],
      "metadata": {
        "colab": {
          "base_uri": "https://localhost:8080/"
        },
        "id": "-FaZY5kNhORW",
        "outputId": "9c6a6055-db3e-41af-85b3-f574447ad120"
      },
      "execution_count": null,
      "outputs": [
        {
          "output_type": "execute_result",
          "data": {
            "text/plain": [
              "array([[ 1.00000000e+00,  4.16333634e-17,  1.73472348e-17],\n",
              "       [ 9.20487644e-17,  1.00000000e+00, -3.03576608e-17],\n",
              "       [ 8.93382590e-17,  2.77555756e-17,  1.00000000e+00]])"
            ]
          },
          "metadata": {},
          "execution_count": 97
        }
      ]
    },
    {
      "cell_type": "code",
      "source": [
        "## And now let's test your skills in solving a matrix with high dimensions:\n",
        "N = np.array([\n",
        "    [18,5,23,1,0,33,5],\n",
        "    [30,45,20,11,32,54,25],\n",
        "    [65,79,20,30,30,20,23],\n",
        "    [14,43,24,42,82,43,12],\n",
        "    [82,62,82,37,21,56,12],\n",
        "    [-25,15,22,20,20,26,-30],\n",
        "    [-22,-25,21,22,41,80,12],\n",
        "])\n",
        "N_inv = np.linalg.inv(N)\n",
        "np.array(N @ N_inv,dtype=int)"
      ],
      "metadata": {
        "colab": {
          "base_uri": "https://localhost:8080/"
        },
        "id": "9VcdIbRJhTFc",
        "outputId": "c9c079c9-dc63-40c3-a538-cbfa955111f3"
      },
      "execution_count": null,
      "outputs": [
        {
          "output_type": "execute_result",
          "data": {
            "text/plain": [
              "array([[1, 0, 0, 0, 0, 0, 0],\n",
              "       [0, 1, 0, 0, 0, 0, 0],\n",
              "       [0, 0, 1, 0, 0, 0, 0],\n",
              "       [0, 0, 0, 1, 0, 0, 0],\n",
              "       [0, 0, 0, 0, 1, 0, 0],\n",
              "       [0, 0, 0, 0, 0, 1, 0],\n",
              "       [0, 0, 0, 0, 0, 0, 0]])"
            ]
          },
          "metadata": {},
          "execution_count": 98
        }
      ]
    },
    {
      "cell_type": "markdown",
      "source": [
        "To validate the wether if the matric that you have solved is really the inverse, we follow this dot product property for a matrix $M$:\n",
        "$$M\\cdot M^{-1} = I$$"
      ],
      "metadata": {
        "id": "XMW_xGGJi1iE"
      }
    },
    {
      "cell_type": "code",
      "source": [
        "squad = np.array([\n",
        "    [1.0, 1.0, 0.5],\n",
        "    [0.7, 0.7, 0.9],\n",
        "    [0.3, 0.3, 1.0]\n",
        "])\n",
        "weights = np.array([\n",
        "    [0.2, 0.2, 0.6]\n",
        "])\n",
        "p_grade = squad @ weights.T\n",
        "p_grade"
      ],
      "metadata": {
        "colab": {
          "base_uri": "https://localhost:8080/"
        },
        "id": "xCeX1a1Ai2A8",
        "outputId": "9c953428-5cb5-452e-fe07-5f3bd9417c76"
      },
      "execution_count": null,
      "outputs": [
        {
          "output_type": "execute_result",
          "data": {
            "text/plain": [
              "array([[0.7 ],\n",
              "       [0.82],\n",
              "       [0.72]])"
            ]
          },
          "metadata": {},
          "execution_count": 99
        }
      ]
    },
    {
      "cell_type": "markdown",
      "source": [
        "## Activity"
      ],
      "metadata": {
        "id": "pM57tynti6nc"
      }
    },
    {
      "cell_type": "markdown",
      "source": [
        "### Task 1"
      ],
      "metadata": {
        "id": "3cqtoVFUi7Yj"
      }
    },
    {
      "cell_type": "markdown",
      "source": [
        "Prove and implement the remaining 6 matrix multiplication properties. You may create your own matrices in which their shapes should not be lower than $(3,3)$.\n",
        "In your methodology, create individual flowcharts for each property and discuss the property you would then present your proofs or validity of your implementation in the results section by comparing your result to present functions from NumPy."
      ],
      "metadata": {
        "id": "s7A0lNuEi9Vs"
      }
    },
    {
      "cell_type": "code",
      "source": [
        "D = np.array([[2,-1,6,3],\n",
        "              [3,4,-5,2],\n",
        "              [-2,5,8,6],\n",
        "              [0,-2,0,1]\n",
        "])\n",
        "J = np.array([[0,7,4,-3],\n",
        "              [7,5,-4,2],\n",
        "              [-3,2,0,1],\n",
        "              [8,9,-1,0]\n",
        "])\n",
        "E = np.array([[3,2,-1,0],\n",
        "              [3,5,-9,0],\n",
        "              [7,8,-1,0],\n",
        "              [9,3,6,-1]\n",
        "])"
      ],
      "metadata": {
        "id": "af6_hXcNjAy0"
      },
      "execution_count": 24,
      "outputs": []
    },
    {
      "cell_type": "markdown",
      "source": [
        "$A.B ≠ B.A$"
      ],
      "metadata": {
        "id": "pAZ_bKJBJ0V-"
      }
    },
    {
      "cell_type": "code",
      "source": [
        "S = np.dot(D,J)\n",
        "print(S)"
      ],
      "metadata": {
        "colab": {
          "base_uri": "https://localhost:8080/"
        },
        "id": "f8t0wcoTLdwU",
        "outputId": "f2a5fcad-a702-44db-f4b7-e18a3f2cd0fe"
      },
      "execution_count": 26,
      "outputs": [
        {
          "output_type": "stream",
          "name": "stdout",
          "text": [
            "[[ -1  48   9  -2]\n",
            " [ 59  49  -6  -6]\n",
            " [ 59  81 -34  24]\n",
            " [ -6  -1   7  -4]]\n"
          ]
        }
      ]
    },
    {
      "cell_type": "code",
      "source": [
        "T = np.dot(J,D)\n",
        "print(T)"
      ],
      "metadata": {
        "colab": {
          "base_uri": "https://localhost:8080/"
        },
        "id": "bIDZROMNMf1G",
        "outputId": "b96fc96b-b209-4ef4-a616-b47e5bd227f5"
      },
      "execution_count": 28,
      "outputs": [
        {
          "output_type": "stream",
          "name": "stdout",
          "text": [
            "[[ 13  54  -3  35]\n",
            " [ 37 -11 -15   9]\n",
            " [  0   9 -28  -4]\n",
            " [ 45  23  -5  36]]\n"
          ]
        }
      ]
    },
    {
      "cell_type": "code",
      "source": [
        "np.array_equal(S,T)"
      ],
      "metadata": {
        "colab": {
          "base_uri": "https://localhost:8080/"
        },
        "id": "O_pjyoygM0Jk",
        "outputId": "a0f5ff5b-3314-4fd3-8620-1dfa9e62b796"
      },
      "execution_count": 33,
      "outputs": [
        {
          "output_type": "execute_result",
          "data": {
            "text/plain": [
              "False"
            ]
          },
          "metadata": {},
          "execution_count": 33
        }
      ]
    },
    {
      "cell_type": "markdown",
      "source": [
        "$A.(B.C) = (A.B).C$"
      ],
      "metadata": {
        "id": "qtajN3_YKjlj"
      }
    },
    {
      "cell_type": "code",
      "source": [
        "R = np.dot(J,E)"
      ],
      "metadata": {
        "id": "6o3dpVJBLdO1"
      },
      "execution_count": 40,
      "outputs": []
    },
    {
      "cell_type": "code",
      "source": [
        "N = np.dot(D,J)"
      ],
      "metadata": {
        "id": "nG5UMWymPnSQ"
      },
      "execution_count": 39,
      "outputs": []
    },
    {
      "cell_type": "code",
      "source": [
        "P = np.dot(D,R)\n",
        "print(P)"
      ],
      "metadata": {
        "colab": {
          "base_uri": "https://localhost:8080/"
        },
        "id": "mWT3qphfP4Uf",
        "outputId": "3466e3c8-0871-4284-84c4-077b34146289"
      },
      "execution_count": 42,
      "outputs": [
        {
          "output_type": "stream",
          "name": "stdout",
          "text": [
            "[[ 186  304 -452    2]\n",
            " [ 228  297 -530    6]\n",
            " [ 398  323 -610  -24]\n",
            " [  -8   27  -16    4]]\n"
          ]
        }
      ]
    },
    {
      "cell_type": "code",
      "source": [
        "B = np.dot(N,E)\n",
        "print(B)"
      ],
      "metadata": {
        "colab": {
          "base_uri": "https://localhost:8080/"
        },
        "id": "R0Dx9mo9Qe78",
        "outputId": "b3d57abd-08d4-4d62-e7f7-d626d16e9f27"
      },
      "execution_count": 43,
      "outputs": [
        {
          "output_type": "stream",
          "name": "stdout",
          "text": [
            "[[ 186  304 -452    2]\n",
            " [ 228  297 -530    6]\n",
            " [ 398  323 -610  -24]\n",
            " [  -8   27  -16    4]]\n"
          ]
        }
      ]
    },
    {
      "cell_type": "code",
      "source": [
        "np.array_equal(P,B)"
      ],
      "metadata": {
        "colab": {
          "base_uri": "https://localhost:8080/"
        },
        "id": "8DEzTwD-QpEF",
        "outputId": "d1b093e0-2fe4-4ecd-a940-0fefffbb9224"
      },
      "execution_count": 44,
      "outputs": [
        {
          "output_type": "execute_result",
          "data": {
            "text/plain": [
              "True"
            ]
          },
          "metadata": {},
          "execution_count": 44
        }
      ]
    },
    {
      "cell_type": "markdown",
      "source": [
        "$A.(B+C) = A.B+A.C$"
      ],
      "metadata": {
        "id": "z3-sFrv7Kl1K"
      }
    },
    {
      "cell_type": "code",
      "source": [
        "Q = np.dot(D, J+E)\n",
        "print(Q)"
      ],
      "metadata": {
        "colab": {
          "base_uri": "https://localhost:8080/"
        },
        "id": "khdxEe8HQvWg",
        "outputId": "b913de2e-a2ca-460d-b10b-94ca8934071c"
      },
      "execution_count": 45,
      "outputs": [
        {
          "output_type": "stream",
          "name": "stdout",
          "text": [
            "[[ 71 104  28  -5]\n",
            " [ 63  41 -28  -8]\n",
            " [178 184 -49  18]\n",
            " [ -3  -8  31  -5]]\n"
          ]
        }
      ]
    },
    {
      "cell_type": "code",
      "source": [
        "X = np.dot(D,J) + np.dot(D,E)\n",
        "print(X)"
      ],
      "metadata": {
        "colab": {
          "base_uri": "https://localhost:8080/"
        },
        "id": "TjhdDHLqQ4Rq",
        "outputId": "999c58e6-6c70-41d6-d2b7-9e57fe9084d3"
      },
      "execution_count": 46,
      "outputs": [
        {
          "output_type": "stream",
          "name": "stdout",
          "text": [
            "[[ 71 104  28  -5]\n",
            " [ 63  41 -28  -8]\n",
            " [178 184 -49  18]\n",
            " [ -3  -8  31  -5]]\n"
          ]
        }
      ]
    },
    {
      "cell_type": "code",
      "source": [
        "np.array_equal(Q,X)"
      ],
      "metadata": {
        "colab": {
          "base_uri": "https://localhost:8080/"
        },
        "id": "N6yQD1J5Q_v5",
        "outputId": "a793d506-dc08-4bee-b840-b98e476432ed"
      },
      "execution_count": 47,
      "outputs": [
        {
          "output_type": "execute_result",
          "data": {
            "text/plain": [
              "True"
            ]
          },
          "metadata": {},
          "execution_count": 47
        }
      ]
    },
    {
      "cell_type": "markdown",
      "source": [
        " $(B+C).A = B.A+C.A$"
      ],
      "metadata": {
        "id": "hREafLjfKmgk"
      }
    },
    {
      "cell_type": "code",
      "source": [
        "Y = np.dot(J+E, D)\n",
        "print(Y)"
      ],
      "metadata": {
        "colab": {
          "base_uri": "https://localhost:8080/"
        },
        "id": "fL1W7TsCRExF",
        "outputId": "a1e1cf92-dcc2-4682-a769-2b2300c48852"
      },
      "execution_count": 48,
      "outputs": [
        {
          "output_type": "stream",
          "name": "stdout",
          "text": [
            "[[ 27  54  -3  42]\n",
            " [ 76 -39 -94 -26]\n",
            " [ 40  29 -34  27]\n",
            " [ 60  58  82 104]]\n"
          ]
        }
      ]
    },
    {
      "cell_type": "code",
      "source": [
        "L = np.dot(J,D) + np.dot(E,D)\n",
        "print(L)"
      ],
      "metadata": {
        "colab": {
          "base_uri": "https://localhost:8080/"
        },
        "id": "srIHgZWFROME",
        "outputId": "7c95280e-0e05-4139-8264-f0ca3c033bfd"
      },
      "execution_count": 49,
      "outputs": [
        {
          "output_type": "stream",
          "name": "stdout",
          "text": [
            "[[ 27  54  -3  42]\n",
            " [ 76 -39 -94 -26]\n",
            " [ 40  29 -34  27]\n",
            " [ 60  58  82 104]]\n"
          ]
        }
      ]
    },
    {
      "cell_type": "code",
      "source": [
        "np.array_equal(Y,L)"
      ],
      "metadata": {
        "colab": {
          "base_uri": "https://localhost:8080/"
        },
        "id": "Tl4Q2MTDRUtO",
        "outputId": "602a05f0-35bd-4e81-806f-425fcd08f5f4"
      },
      "execution_count": 50,
      "outputs": [
        {
          "output_type": "execute_result",
          "data": {
            "text/plain": [
              "True"
            ]
          },
          "metadata": {},
          "execution_count": 50
        }
      ]
    },
    {
      "cell_type": "markdown",
      "source": [
        " $A.I = A$"
      ],
      "metadata": {
        "id": "u6LBTMllKs5k"
      }
    },
    {
      "cell_type": "code",
      "source": [
        "M = np.identity(4)\n",
        "print(M)"
      ],
      "metadata": {
        "colab": {
          "base_uri": "https://localhost:8080/"
        },
        "id": "oM8ItbVPRYij",
        "outputId": "c85d7970-86a5-4c71-dcd2-66325f236678"
      },
      "execution_count": 56,
      "outputs": [
        {
          "output_type": "stream",
          "name": "stdout",
          "text": [
            "[[1. 0. 0. 0.]\n",
            " [0. 1. 0. 0.]\n",
            " [0. 0. 1. 0.]\n",
            " [0. 0. 0. 1.]]\n"
          ]
        }
      ]
    },
    {
      "cell_type": "code",
      "source": [
        "V = np.dot(D,M)\n",
        "print(V)"
      ],
      "metadata": {
        "colab": {
          "base_uri": "https://localhost:8080/"
        },
        "id": "p9c0A-HCRiUa",
        "outputId": "e15731e2-6fe1-43bf-fe7c-997620cfb5f8"
      },
      "execution_count": 57,
      "outputs": [
        {
          "output_type": "stream",
          "name": "stdout",
          "text": [
            "[[ 2. -1.  6.  3.]\n",
            " [ 3.  4. -5.  2.]\n",
            " [-2.  5.  8.  6.]\n",
            " [ 0. -2.  0.  1.]]\n"
          ]
        }
      ]
    },
    {
      "cell_type": "code",
      "source": [
        "np.array_equal(M,D)"
      ],
      "metadata": {
        "colab": {
          "base_uri": "https://localhost:8080/"
        },
        "id": "UQ_mn3v1R6io",
        "outputId": "14930136-e06a-40ee-b6bc-6c5d572c8968"
      },
      "execution_count": 58,
      "outputs": [
        {
          "output_type": "execute_result",
          "data": {
            "text/plain": [
              "False"
            ]
          },
          "metadata": {},
          "execution_count": 58
        }
      ]
    },
    {
      "cell_type": "markdown",
      "source": [
        "$A\\cdot \\emptyset = \\emptyset$ "
      ],
      "metadata": {
        "id": "ifdfQMNxKwH3"
      }
    },
    {
      "cell_type": "code",
      "source": [
        "T = np.dot(D, np.empty((4,5)))\n",
        "print(T)"
      ],
      "metadata": {
        "colab": {
          "base_uri": "https://localhost:8080/"
        },
        "id": "vTZtI-ykRgcD",
        "outputId": "12dafc1e-fd65-40f7-b55e-1000b64eb2a9"
      },
      "execution_count": 65,
      "outputs": [
        {
          "output_type": "stream",
          "name": "stdout",
          "text": [
            "[[-1.15998412e-028  2.93625114e+200  2.09353120e+253 -1.35717430e+131\n",
            "   2.39083692e+253]\n",
            " [ 4.63993648e-028  1.95750076e+200  1.39568747e+253  5.42869721e+131\n",
            "  -1.99236410e+253]\n",
            " [ 5.79992060e-028  5.87250228e+200  4.18706240e+253  6.78587151e+131\n",
            "   3.18778256e+253]\n",
            " [-2.31996824e-028  9.78750380e+199  6.97843734e+252 -2.71434860e+131\n",
            "  -9.15338192e-072]]\n"
          ]
        }
      ]
    },
    {
      "cell_type": "code",
      "source": [
        "W = np.empty((4,5))\n",
        "print(W)"
      ],
      "metadata": {
        "colab": {
          "base_uri": "https://localhost:8080/"
        },
        "id": "sC3dj6UNSGEV",
        "outputId": "50c74336-683c-4e4f-818c-452541832ba6"
      },
      "execution_count": 66,
      "outputs": [
        {
          "output_type": "stream",
          "name": "stdout",
          "text": [
            "[[1.15998412e-028 2.93625114e+200 2.09353120e+253 1.35717430e+131\n",
            "  2.39083692e+253]\n",
            " [4.63993648e-028 1.95750076e+200 1.39568747e+253 5.42869721e+131\n",
            "  1.99236410e+253]\n",
            " [5.79992060e-028 5.87250228e+200 4.18706240e+253 6.78587151e+131\n",
            "  3.18778256e+253]\n",
            " [2.31996824e-028 9.78750380e+199 6.97843734e+252 2.71434860e+131\n",
            "  9.15338192e-072]]\n"
          ]
        }
      ]
    },
    {
      "cell_type": "code",
      "source": [
        "np.array_equal(T,W)"
      ],
      "metadata": {
        "colab": {
          "base_uri": "https://localhost:8080/"
        },
        "id": "Dzbvq4idSZuA",
        "outputId": "f0f714fe-3a52-4fe4-d4fb-2765609bd0bf"
      },
      "execution_count": 67,
      "outputs": [
        {
          "output_type": "execute_result",
          "data": {
            "text/plain": [
              "False"
            ]
          },
          "metadata": {},
          "execution_count": 67
        }
      ]
    },
    {
      "cell_type": "markdown",
      "source": [
        "## Conclusion"
      ],
      "metadata": {
        "id": "hDesQ7IGjFP8"
      }
    },
    {
      "cell_type": "markdown",
      "source": [
        "For your conclusion synthesize the concept and application of the laboratory. Briefly discuss what you have learned and achieved in this activity."
      ],
      "metadata": {
        "id": "hMF7RO39jH-E"
      }
    }
  ]
}