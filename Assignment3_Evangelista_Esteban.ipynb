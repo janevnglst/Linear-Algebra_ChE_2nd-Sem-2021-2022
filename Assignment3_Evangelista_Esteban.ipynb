{
  "nbformat": 4,
  "nbformat_minor": 0,
  "metadata": {
    "colab": {
      "name": "Assignment3_Evangelista_Esteban.ipynb",
      "provenance": [],
      "include_colab_link": true
    },
    "kernelspec": {
      "name": "python3",
      "display_name": "Python 3"
    },
    "language_info": {
      "name": "python"
    }
  },
  "cells": [
    {
      "cell_type": "markdown",
      "metadata": {
        "id": "view-in-github",
        "colab_type": "text"
      },
      "source": [
        "<a href=\"https://colab.research.google.com/github/janevnglst/Linear-Algebra_ChE_2nd-Sem-2021-2022/blob/main/Assignment3_Evangelista_Esteban.ipynb\" target=\"_parent\"><img src=\"https://colab.research.google.com/assets/colab-badge.svg\" alt=\"Open In Colab\"/></a>"
      ]
    },
    {
      "cell_type": "markdown",
      "source": [
        "# Linear Algebra for CHE"
      ],
      "metadata": {
        "id": "mONJ2Zk4DowH"
      }
    },
    {
      "cell_type": "markdown",
      "source": [
        "## Assignment 3: matrices"
      ],
      "metadata": {
        "id": "IZ5281lXDsG9"
      }
    },
    {
      "cell_type": "markdown",
      "source": [
        "Now that you have a fundamental knowledge about Phyton, we'll try to look into greater dimensions."
      ],
      "metadata": {
        "id": "_Oivl7h8DvjF"
      }
    },
    {
      "cell_type": "markdown",
      "source": [
        "### Objectives\n",
        "\n",
        "1. Be familiar with matrices and their relation to linear equations.\n",
        "2. Perform basic matrix operations\n",
        "3. Program and translate matrix equations and operations using Phyton."
      ],
      "metadata": {
        "id": "1OKyGMfhEKSe"
      }
    },
    {
      "cell_type": "markdown",
      "source": [
        "## Discussion"
      ],
      "metadata": {
        "id": "J2MohUioEg5m"
      }
    },
    {
      "cell_type": "code",
      "source": [
        "import numpy as np\n",
        "import matplotlib.pyplot as plt\n",
        "import scipy.linalg as la\n",
        "%matplotlib inline"
      ],
      "metadata": {
        "id": "KN9J56pQEi4J"
      },
      "execution_count": null,
      "outputs": []
    },
    {
      "cell_type": "markdown",
      "source": [
        "### Matrices"
      ],
      "metadata": {
        "id": "umrb0o9YD292"
      }
    },
    {
      "cell_type": "markdown",
      "source": [
        "The notation and use of matrices is probably one of the fundamentals of modern computing. Matrices are also handy representations of complex equations or multiple inter-related equations from 2-dimensional equations to even hundreds and thousands of them."
      ],
      "metadata": {
        "id": "eB7i8KwyFfGQ"
      }
    },
    {
      "cell_type": "markdown",
      "source": [
        "Let's say for example you have *A* and *B*  as system of equation."
      ],
      "metadata": {
        "id": "5hoYFiGNFf8V"
      }
    },
    {
      "cell_type": "markdown",
      "source": [
        "$$\n",
        "A = \\left\\{\n",
        "    \\begin{array}\\\n",
        "        x + y \\\\ \n",
        "        3x - 1y\n",
        "    \\end{array}\n",
        "\\right. \\\\\n",
        "B = \\left\\{\n",
        "    \\begin{array}\\\n",
        "        x+y+z \\\\ \n",
        "        5x -8y -z \\\\\n",
        "        -x + 1y +3z\n",
        "    \\end{array}\n",
        "\\right. \\\\\n",
        "C = \\left\\{\n",
        "    \\begin{array}\\\n",
        "        x+y+z \\\\ \n",
        "        3w -2y -z \\\\\n",
        "        2w -x + 3y - 2z\n",
        "    \\end{array}\n",
        "\\right. $$"
      ],
      "metadata": {
        "id": "7R7w57IcFNLN"
      }
    },
    {
      "cell_type": "markdown",
      "source": [
        "We could see that *A* is a system of 2 equations with 2 parameters. While *B* is a system of 3 equations with 3 parameters. We can represent them as matrices as:"
      ],
      "metadata": {
        "id": "uHq6cJElF-2F"
      }
    },
    {
      "cell_type": "markdown",
      "source": [
        "$$\n",
        "A=\\begin{bmatrix} 3 & 5 \\\\ 8 & {-10}\\end{bmatrix} \\\\\n",
        "B=\\begin{bmatrix} 13 & 16 & 18 \\\\ 13 & -12 & -11 \\\\ -11 & 14 & 12\\end{bmatrix}\\\\\n",
        "C=\\begin{bmatrix} 31 & -62 & 53 & -84 \\\\ 15 & -26 & -17 & 68 \\\\ 39 & -11 & 33 & -5\\end{bmatrix}\n",
        "$$"
      ],
      "metadata": {
        "id": "KoaOfz7VGJtl"
      }
    },
    {
      "cell_type": "markdown",
      "source": [
        "So assuming that you already discussed the fundamental representation of matrices, their types, and operations. We'll proceed in doing them in here in Python."
      ],
      "metadata": {
        "id": "RvWGItMBGNcd"
      }
    },
    {
      "cell_type": "markdown",
      "source": [
        "# Declaring Matrices"
      ],
      "metadata": {
        "id": "uJ70x8EkGP2e"
      }
    },
    {
      "cell_type": "markdown",
      "source": [
        "Just like our previous laboratory activity, we'll represent system of linear equations as a matrix. The entities or numbers in matrices are called the elements of a matrix. These elements are arranged and ordered in rows and columns which form the list/array-like structure of matrices. And just like arrays, these elements are indexed according to their position with respect to their rows and columns. This can be reprsented just like the equation below. Whereas *A* is a matrix consisting of elements denoted by aij . Denoted by i is the number of rows in the matrix while  stands for the number of columns.\n",
        "Do note that the size of a matrix is i x j ."
      ],
      "metadata": {
        "id": "4dE3HhCbGSOM"
      }
    },
    {
      "cell_type": "markdown",
      "source": [
        "$$A=\\begin{bmatrix}\n",
        "a_{(0,0)}&a_{(0,1)}&\\dots&a_{(0,j-1)}\\\\\n",
        "a_{(1,0)}&a_{(1,1)}&\\dots&a_{(1,j-1)}\\\\\n",
        "\\vdots&\\vdots&\\ddots&\\vdots&\\\\\n",
        "a_{(i-1,0)}&a_{(i-1,1)}&\\dots&a_{(i-1,j-1)}\n",
        "\\end{bmatrix}\n",
        "$$\n"
      ],
      "metadata": {
        "id": "VuzRU90iGg4v"
      }
    },
    {
      "cell_type": "markdown",
      "source": [
        "We already gone over some of the types of matrices as vectors but we'll further discuss them in this laboratory activity. Since you already know how to describe vectors using **shape, dimensions** and **size** attributes, we'll use them to analyze these matrices."
      ],
      "metadata": {
        "id": "5FpcBD5VGjbf"
      }
    },
    {
      "cell_type": "code",
      "source": [
        "## Since we'll keep on describing matrices. Let's make a function.\n",
        "def describe_mat(matrix):\n",
        "    print(f'Matrix:\\n{matrix}\\n\\nShape:\\t{matrix.shape}\\nRank:\\t{matrix.ndim}\\n')"
      ],
      "metadata": {
        "id": "gSQrELhxGuR2"
      },
      "execution_count": null,
      "outputs": []
    },
    {
      "cell_type": "code",
      "source": [
        "## Declaring a 2 x 2 matrix\n",
        "A = np.array([\n",
        "    [1, 2],\n",
        "    [6, 6]\n",
        "])\n",
        "describe_mat(A)"
      ],
      "metadata": {
        "colab": {
          "base_uri": "https://localhost:8080/"
        },
        "id": "tm4aaHXaHC7O",
        "outputId": "392772dd-1b5e-4ed5-f360-95603ef2634e"
      },
      "execution_count": null,
      "outputs": [
        {
          "output_type": "stream",
          "name": "stdout",
          "text": [
            "Matrix:\n",
            "[[1 2]\n",
            " [6 6]]\n",
            "\n",
            "Shape:\t(2, 2)\n",
            "Rank:\t2\n",
            "\n"
          ]
        }
      ]
    },
    {
      "cell_type": "code",
      "source": [
        "G = np.array([\n",
        "    [1,4],\n",
        "    [2,9]\n",
        "])\n",
        "describe_mat(G)"
      ],
      "metadata": {
        "colab": {
          "base_uri": "https://localhost:8080/"
        },
        "id": "IR8Us6ABHHgJ",
        "outputId": "129c699a-3a93-4296-afde-f95d65234f52"
      },
      "execution_count": null,
      "outputs": [
        {
          "output_type": "stream",
          "name": "stdout",
          "text": [
            "Matrix:\n",
            "[[1 4]\n",
            " [2 9]]\n",
            "\n",
            "Shape:\t(2, 2)\n",
            "Rank:\t2\n",
            "\n"
          ]
        }
      ]
    },
    {
      "cell_type": "code",
      "source": [
        "## Declaring a 3 x 2 matrix\n",
        "B = np.array([\n",
        "    [8, 3],\n",
        "    [6, 2],\n",
        "    [1, 1]\n",
        "])\n",
        "describe_mat(B)"
      ],
      "metadata": {
        "colab": {
          "base_uri": "https://localhost:8080/"
        },
        "id": "daOJ2FajHLOb",
        "outputId": "c61b8c92-df62-42c3-8ccf-4804f81f889a"
      },
      "execution_count": null,
      "outputs": [
        {
          "output_type": "stream",
          "name": "stdout",
          "text": [
            "Matrix:\n",
            "[[8 3]\n",
            " [6 2]\n",
            " [1 1]]\n",
            "\n",
            "Shape:\t(3, 2)\n",
            "Rank:\t2\n",
            "\n"
          ]
        }
      ]
    },
    {
      "cell_type": "code",
      "source": [
        "H = np.array([1,9,8,7,6])\n",
        "describe_mat(H)"
      ],
      "metadata": {
        "colab": {
          "base_uri": "https://localhost:8080/"
        },
        "id": "6hFEI6yRHRKn",
        "outputId": "f6de3b7e-8cf6-4756-b98e-e60ad507a4b0"
      },
      "execution_count": null,
      "outputs": [
        {
          "output_type": "stream",
          "name": "stdout",
          "text": [
            "Matrix:\n",
            "[1 9 8 7 6]\n",
            "\n",
            "Shape:\t(5,)\n",
            "Rank:\t1\n",
            "\n"
          ]
        }
      ]
    },
    {
      "cell_type": "markdown",
      "source": [
        "# Categorizing Matrices\n",
        "There are several ways of classifying matrices. Once could be according to their **shape** and another is according to their **element values.** We'll try to go through them."
      ],
      "metadata": {
        "id": "j2dr1kMqHVaI"
      }
    },
    {
      "cell_type": "markdown",
      "source": [
        "## According to shape"
      ],
      "metadata": {
        "id": "aK6ok_ePHdqY"
      }
    },
    {
      "cell_type": "markdown",
      "source": [
        "### Row and Column Matrices"
      ],
      "metadata": {
        "id": "u97NTxeWHgON"
      }
    },
    {
      "cell_type": "markdown",
      "source": [
        "Row and column matrices are common in vector and matrix computations. They can also represent row and column spaces of a bigger vector space. Row and column matrices are represented by a single column or single row. So with that being, the shape of row matrices would be 1 x j and column matrices would be i x 1."
      ],
      "metadata": {
        "id": "Ri6V3YoGHiX8"
      }
    },
    {
      "cell_type": "code",
      "source": [
        "## Declaring a Row Matrix\n",
        "\n",
        "row_mat_1D = np.array([\n",
        "    2, 9, 5\n",
        "]) ## this is a 1-D Matrix with a shape of (3,), it's not really considered as a row matrix.\n",
        "row_mat_2D = np.array([\n",
        "    [1,2,3]\n",
        "]) ## this is a 2-D Matrix with a shape of (1,3)\n",
        "describe_mat(row_mat_1D)\n",
        "describe_mat(row_mat_2D)"
      ],
      "metadata": {
        "colab": {
          "base_uri": "https://localhost:8080/"
        },
        "id": "Bb5YLVGpHpg5",
        "outputId": "32baf2ca-6807-4635-e975-d6167e825930"
      },
      "execution_count": null,
      "outputs": [
        {
          "output_type": "stream",
          "name": "stdout",
          "text": [
            "Matrix:\n",
            "[2 9 5]\n",
            "\n",
            "Shape:\t(3,)\n",
            "Rank:\t1\n",
            "\n",
            "Matrix:\n",
            "[[1 2 3]]\n",
            "\n",
            "Shape:\t(1, 3)\n",
            "Rank:\t2\n",
            "\n"
          ]
        }
      ]
    },
    {
      "cell_type": "code",
      "source": [
        "## Declaring a Column Matrix\n",
        "\n",
        "col_mat = np.array([\n",
        "    [2],\n",
        "    [6],\n",
        "    [7]\n",
        "]) ## this is a 2-D Matrix with a shape of (3,1)\n",
        "describe_mat(col_mat)"
      ],
      "metadata": {
        "colab": {
          "base_uri": "https://localhost:8080/"
        },
        "id": "J7P71ZbOHvcN",
        "outputId": "b357c4d3-15c0-43dc-a778-6b8c28421edd"
      },
      "execution_count": null,
      "outputs": [
        {
          "output_type": "stream",
          "name": "stdout",
          "text": [
            "Matrix:\n",
            "[[2]\n",
            " [6]\n",
            " [7]]\n",
            "\n",
            "Shape:\t(3, 1)\n",
            "Rank:\t2\n",
            "\n"
          ]
        }
      ]
    },
    {
      "cell_type": "markdown",
      "source": [
        "### Square Matrices\n",
        "Square matrices are matrices that have the same row and column sizes. We could say a matrix is square if i = j. We can tweak our matrix descriptor function to determine square matrices."
      ],
      "metadata": {
        "id": "fsMOkTWtH1Wo"
      }
    },
    {
      "cell_type": "code",
      "source": [
        "def describe_mat(matrix):\n",
        "    is_square = True if matrix.shape[0] == matrix.shape[1] else False \n",
        "    print(f'Matrix:\\n{matrix}\\n\\nShape:\\t{matrix.shape}\\nRank:\\t{matrix.ndim}\\nIs Square: {is_square}\\n')"
      ],
      "metadata": {
        "id": "CNsyLY0JH8vN"
      },
      "execution_count": null,
      "outputs": []
    },
    {
      "cell_type": "code",
      "source": [
        "square_mat = np.array([\n",
        "    [19,23,51],\n",
        "    [34,36,81],\n",
        "    [62,10,27]\n",
        "])\n",
        "\n",
        "non_square_mat = np.array([\n",
        "    [11,21,53],\n",
        "    [30,30,80]\n",
        "])\n",
        "describe_mat(square_mat)\n",
        "describe_mat(non_square_mat)"
      ],
      "metadata": {
        "colab": {
          "base_uri": "https://localhost:8080/"
        },
        "id": "weRhaRzAIO0-",
        "outputId": "6ab436df-eef1-47df-89aa-8f3bf8a61033"
      },
      "execution_count": null,
      "outputs": [
        {
          "output_type": "stream",
          "name": "stdout",
          "text": [
            "Matrix:\n",
            "[[19 23 51]\n",
            " [34 36 81]\n",
            " [62 10 27]]\n",
            "\n",
            "Shape:\t(3, 3)\n",
            "Rank:\t2\n",
            "Is Square: True\n",
            "\n",
            "Matrix:\n",
            "[[11 21 53]\n",
            " [30 30 80]]\n",
            "\n",
            "Shape:\t(2, 3)\n",
            "Rank:\t2\n",
            "Is Square: False\n",
            "\n"
          ]
        }
      ]
    },
    {
      "cell_type": "markdown",
      "source": [
        "### According to element values"
      ],
      "metadata": {
        "id": "uSdnVKkbIR0S"
      }
    },
    {
      "cell_type": "markdown",
      "source": [
        "#### Null Matrix\n",
        "A Null matrix is a matrix that has no rows and no columns. It is used when you are analyzing a data set and you want to know what the dimensions of the data set are. \n"
      ],
      "metadata": {
        "id": "5f-cR4bpIStn"
      }
    },
    {
      "cell_type": "code",
      "source": [
        "def describe_mat(matrix):\n",
        "    if matrix.size > 0:\n",
        "        is_square = True if matrix.shape[0] == matrix.shape[1] else False \n",
        "        print(f'Matrix:\\n{matrix}\\n\\nShape:\\t{matrix.shape}\\nRank:\\t{matrix.ndim}\\nIs Square: {is_square}\\n')\n",
        "    else:\n",
        "        print('Matrix is Null')"
      ],
      "metadata": {
        "id": "n6-fnVQ1IX6F"
      },
      "execution_count": null,
      "outputs": []
    },
    {
      "cell_type": "code",
      "source": [
        "null_mat = np.array([])\n",
        "describe_mat(null_mat)"
      ],
      "metadata": {
        "colab": {
          "base_uri": "https://localhost:8080/"
        },
        "id": "cpXV6lz9Ie_2",
        "outputId": "710f3193-4547-488e-c20c-008d87b9b838"
      },
      "execution_count": null,
      "outputs": [
        {
          "output_type": "stream",
          "name": "stdout",
          "text": [
            "Matrix is Null\n"
          ]
        }
      ]
    },
    {
      "cell_type": "markdown",
      "source": [
        "### Zero Matrices\n",
        "A zero matrx can be any rectangular matrix but will all elements having a value of 0."
      ],
      "metadata": {
        "id": "fBBxrRbzIgas"
      }
    },
    {
      "cell_type": "code",
      "source": [
        "zero_mat_row = np.zeros((1,2))\n",
        "zero_mat_sqr = np.zeros((2,2))\n",
        "zero_mat_rct = np.zeros((3,2))\n",
        "\n",
        "print(f'Zero Row Matrix: \\n{zero_mat_row}')\n",
        "print(f'Zero Square Matrix: \\n{zero_mat_sqr}')\n",
        "print(f'Zero Rectangular Matrix: \\n{zero_mat_rct}')"
      ],
      "metadata": {
        "colab": {
          "base_uri": "https://localhost:8080/"
        },
        "id": "kCg1a3liImwl",
        "outputId": "717b9baa-dae3-4aac-9739-cc2c02e34697"
      },
      "execution_count": null,
      "outputs": [
        {
          "output_type": "stream",
          "name": "stdout",
          "text": [
            "Zero Row Matrix: \n",
            "[[0. 0.]]\n",
            "Zero Square Matrix: \n",
            "[[0. 0.]\n",
            " [0. 0.]]\n",
            "Zero Rectangular Matrix: \n",
            "[[0. 0.]\n",
            " [0. 0.]\n",
            " [0. 0.]]\n"
          ]
        }
      ]
    },
    {
      "cell_type": "markdown",
      "source": [
        "### Ones Matrix\n",
        "A ones matrix, just like the zero matrix, can be any rectangular matrix but all of its elements are 1s instead of 0s."
      ],
      "metadata": {
        "id": "IYSOmm6GIrYK"
      }
    },
    {
      "cell_type": "code",
      "source": [
        "ones_mat_row = np.ones((1,2))\n",
        "ones_mat_sqr = np.ones((2,2))\n",
        "ones_mat_rct = np.ones((3,2))\n",
        "\n",
        "print(f'Ones Row Matrix: \\n{ones_mat_row}')\n",
        "print(f'Ones Square Matrix: \\n{ones_mat_sqr}')\n",
        "print(f'Ones Rectangular Matrix: \\n{ones_mat_rct}')"
      ],
      "metadata": {
        "colab": {
          "base_uri": "https://localhost:8080/"
        },
        "id": "of3fqwliIxr1",
        "outputId": "0c20a2cd-f34f-4a9c-a5ef-c5084ed0f461"
      },
      "execution_count": null,
      "outputs": [
        {
          "output_type": "stream",
          "name": "stdout",
          "text": [
            "Ones Row Matrix: \n",
            "[[1. 1.]]\n",
            "Ones Square Matrix: \n",
            "[[1. 1.]\n",
            " [1. 1.]]\n",
            "Ones Rectangular Matrix: \n",
            "[[1. 1.]\n",
            " [1. 1.]\n",
            " [1. 1.]]\n"
          ]
        }
      ]
    },
    {
      "cell_type": "markdown",
      "source": [
        "### Diagonal Matrix\n",
        "The diagonal matrix is the identity matrix transposed. That is, the elements on the main diagonal are transposed with the elements on the other two diagonals. This matrix is useful for solving systems of linear equations."
      ],
      "metadata": {
        "id": "pu98lKDNI0Qp"
      }
    },
    {
      "cell_type": "code",
      "source": [
        "np.array([\n",
        "    [5,3,2],\n",
        "    [3,3,1],\n",
        "    [0,0,5]\n",
        "])"
      ],
      "metadata": {
        "colab": {
          "base_uri": "https://localhost:8080/"
        },
        "id": "v_a_1mbEI2c0",
        "outputId": "e7ee6b0e-db71-467f-cc11-f273fbdb67d5"
      },
      "execution_count": null,
      "outputs": [
        {
          "output_type": "execute_result",
          "data": {
            "text/plain": [
              "array([[5, 3, 2],\n",
              "       [3, 3, 1],\n",
              "       [0, 0, 5]])"
            ]
          },
          "metadata": {},
          "execution_count": 27
        }
      ]
    },
    {
      "cell_type": "code",
      "source": [
        "d = np.diag([4,3,6,8])\n",
        "#d.shape[0] == d.shape[1]\n",
        "d"
      ],
      "metadata": {
        "colab": {
          "base_uri": "https://localhost:8080/"
        },
        "id": "DaCKu2tqI4pM",
        "outputId": "7615b71c-2554-4be3-c13b-0de42411b80a"
      },
      "execution_count": null,
      "outputs": [
        {
          "output_type": "execute_result",
          "data": {
            "text/plain": [
              "array([[4, 0, 0, 0],\n",
              "       [0, 3, 0, 0],\n",
              "       [0, 0, 6, 0],\n",
              "       [0, 0, 0, 8]])"
            ]
          },
          "metadata": {},
          "execution_count": 28
        }
      ]
    },
    {
      "cell_type": "markdown",
      "source": [
        "### Identity Matrix\n",
        "An identity matrix is a special diagonal matrix in which the values at the diagonal are ones."
      ],
      "metadata": {
        "id": "kmylr8ktI8Ct"
      }
    },
    {
      "cell_type": "code",
      "source": [
        "np.eye(5)"
      ],
      "metadata": {
        "colab": {
          "base_uri": "https://localhost:8080/"
        },
        "id": "05avCnRTJB31",
        "outputId": "84354ccb-4054-45f9-9881-14dbd5f35473"
      },
      "execution_count": null,
      "outputs": [
        {
          "output_type": "execute_result",
          "data": {
            "text/plain": [
              "array([[1., 0., 0., 0., 0.],\n",
              "       [0., 1., 0., 0., 0.],\n",
              "       [0., 0., 1., 0., 0.],\n",
              "       [0., 0., 0., 1., 0.],\n",
              "       [0., 0., 0., 0., 1.]])"
            ]
          },
          "metadata": {},
          "execution_count": 29
        }
      ]
    },
    {
      "cell_type": "code",
      "source": [
        "np.identity(15)"
      ],
      "metadata": {
        "colab": {
          "base_uri": "https://localhost:8080/"
        },
        "id": "k7Zv370GJDrY",
        "outputId": "dbe95551-4b4f-4b39-fcd0-05cfa9e16f85"
      },
      "execution_count": null,
      "outputs": [
        {
          "output_type": "execute_result",
          "data": {
            "text/plain": [
              "array([[1., 0., 0., 0., 0., 0., 0., 0., 0., 0., 0., 0., 0., 0., 0.],\n",
              "       [0., 1., 0., 0., 0., 0., 0., 0., 0., 0., 0., 0., 0., 0., 0.],\n",
              "       [0., 0., 1., 0., 0., 0., 0., 0., 0., 0., 0., 0., 0., 0., 0.],\n",
              "       [0., 0., 0., 1., 0., 0., 0., 0., 0., 0., 0., 0., 0., 0., 0.],\n",
              "       [0., 0., 0., 0., 1., 0., 0., 0., 0., 0., 0., 0., 0., 0., 0.],\n",
              "       [0., 0., 0., 0., 0., 1., 0., 0., 0., 0., 0., 0., 0., 0., 0.],\n",
              "       [0., 0., 0., 0., 0., 0., 1., 0., 0., 0., 0., 0., 0., 0., 0.],\n",
              "       [0., 0., 0., 0., 0., 0., 0., 1., 0., 0., 0., 0., 0., 0., 0.],\n",
              "       [0., 0., 0., 0., 0., 0., 0., 0., 1., 0., 0., 0., 0., 0., 0.],\n",
              "       [0., 0., 0., 0., 0., 0., 0., 0., 0., 1., 0., 0., 0., 0., 0.],\n",
              "       [0., 0., 0., 0., 0., 0., 0., 0., 0., 0., 1., 0., 0., 0., 0.],\n",
              "       [0., 0., 0., 0., 0., 0., 0., 0., 0., 0., 0., 1., 0., 0., 0.],\n",
              "       [0., 0., 0., 0., 0., 0., 0., 0., 0., 0., 0., 0., 1., 0., 0.],\n",
              "       [0., 0., 0., 0., 0., 0., 0., 0., 0., 0., 0., 0., 0., 1., 0.],\n",
              "       [0., 0., 0., 0., 0., 0., 0., 0., 0., 0., 0., 0., 0., 0., 1.]])"
            ]
          },
          "metadata": {},
          "execution_count": 30
        }
      ]
    },
    {
      "cell_type": "markdown",
      "source": [
        "### Upper Triangular Matrix\n",
        "An upper triangular matrix is a matrix that has no values below the diagonal."
      ],
      "metadata": {
        "id": "-mId3iS8J_oe"
      }
    },
    {
      "cell_type": "code",
      "source": [
        "np.array([\n",
        "    [1,2,3,4],\n",
        "    [0,7,1,-1],\n",
        "    [0,3,5,2],\n",
        "    [1,6,4,2]\n",
        "])"
      ],
      "metadata": {
        "colab": {
          "base_uri": "https://localhost:8080/"
        },
        "id": "yLMHeaNwKA07",
        "outputId": "efe7a086-eca5-477c-b043-406cda196fdf"
      },
      "execution_count": null,
      "outputs": [
        {
          "output_type": "execute_result",
          "data": {
            "text/plain": [
              "array([[ 1,  2,  3,  4],\n",
              "       [ 0,  7,  1, -1],\n",
              "       [ 0,  3,  5,  2],\n",
              "       [ 1,  6,  4,  2]])"
            ]
          },
          "metadata": {},
          "execution_count": 35
        }
      ]
    },
    {
      "cell_type": "code",
      "source": [
        "F = np.array([\n",
        "              [2, -3, 4, -5, 5],\n",
        "              [8, -3, 4, -5, 6],\n",
        "              [4, -2, 4, -6, 6],\n",
        "              [1, -3, 4, -4, 6],\n",
        "              [5, -6, 8, -5, 2],\n",
        "])\n",
        "np.triu(F)"
      ],
      "metadata": {
        "colab": {
          "base_uri": "https://localhost:8080/"
        },
        "id": "w62IMUZPJcod",
        "outputId": "5e5b77bf-2953-4d4b-bc20-953b3d236549"
      },
      "execution_count": null,
      "outputs": [
        {
          "output_type": "execute_result",
          "data": {
            "text/plain": [
              "array([[ 2, -3,  4, -5,  5],\n",
              "       [ 0, -3,  4, -5,  6],\n",
              "       [ 0,  0,  4, -6,  6],\n",
              "       [ 0,  0,  0, -4,  6],\n",
              "       [ 0,  0,  0,  0,  2]])"
            ]
          },
          "metadata": {},
          "execution_count": 37
        }
      ]
    },
    {
      "cell_type": "markdown",
      "source": [
        "# Lower Triangular Matrix\n",
        "A lower triangular matrix is a matrix that has no values above the diagonal"
      ],
      "metadata": {
        "id": "_1GgejLwKRpl"
      }
    },
    {
      "cell_type": "code",
      "source": [
        "np.tril(F)"
      ],
      "metadata": {
        "colab": {
          "base_uri": "https://localhost:8080/"
        },
        "id": "2m5gUE3nKY1U",
        "outputId": "e9c27364-97e3-4a8c-964b-834c47f30459"
      },
      "execution_count": null,
      "outputs": [
        {
          "output_type": "execute_result",
          "data": {
            "text/plain": [
              "array([[ 2,  0,  0,  0,  0],\n",
              "       [ 8, -3,  0,  0,  0],\n",
              "       [ 4, -2,  4,  0,  0],\n",
              "       [ 1, -3,  4, -4,  0],\n",
              "       [ 5, -6,  8, -5,  2]])"
            ]
          },
          "metadata": {},
          "execution_count": 36
        }
      ]
    },
    {
      "cell_type": "code",
      "source": [
        "np.array([\n",
        "    [3,6,1],\n",
        "    [0,7,9],\n",
        "])"
      ],
      "metadata": {
        "colab": {
          "base_uri": "https://localhost:8080/"
        },
        "id": "n-JGzh-yKi_P",
        "outputId": "8d1e06b8-bcb0-4e35-e71e-210baa42e847"
      },
      "execution_count": null,
      "outputs": [
        {
          "output_type": "execute_result",
          "data": {
            "text/plain": [
              "array([[3, 6, 1],\n",
              "       [0, 7, 9]])"
            ]
          },
          "metadata": {},
          "execution_count": 38
        }
      ]
    },
    {
      "cell_type": "markdown",
      "source": [
        "## Practice"
      ],
      "metadata": {
        "id": "OShN_SimJgsu"
      }
    },
    {
      "cell_type": "markdown",
      "source": [
        "1. Given the linear combination below, try to create a corresponding matrix representing it."
      ],
      "metadata": {
        "id": "_x0o-CS4Ji7N"
      }
    },
    {
      "cell_type": "markdown",
      "source": [
        ":$$\\theta = 5x + 3y - z$$"
      ],
      "metadata": {
        "id": "d1PanwOiJlR2"
      }
    },
    {
      "cell_type": "markdown",
      "source": [
        "2. Given the system of linear combinations below, try to encode it as a matrix. Also describe the matrix."
      ],
      "metadata": {
        "id": "V3zC4x8JJng2"
      }
    },
    {
      "cell_type": "markdown",
      "source": [
        "$$\n",
        "A = \\left\\{\\begin{array}\n",
        "5x_1 + 2x_2 +x_3\\\\\n",
        "4x_2 - x_3\\\\\n",
        "10x_3\n",
        "\\end{array}\\right.\n",
        "$$"
      ],
      "metadata": {
        "id": "rJhbEauMJqkx"
      }
    },
    {
      "cell_type": "markdown",
      "source": [
        "3. Given the matrix below, express it as a linear combination in a markdown."
      ],
      "metadata": {
        "id": "IVg7YQ9yJt-N"
      }
    },
    {
      "cell_type": "code",
      "source": [
        "G = np.array([\n",
        "    [1,7,8],\n",
        "    [2,2,2],\n",
        "    [4,6,7]\n",
        "])"
      ],
      "metadata": {
        "id": "EzsuS3e7KrVM"
      },
      "execution_count": null,
      "outputs": []
    },
    {
      "cell_type": "markdown",
      "source": [
        "4. Given the matrix below, display the output as a LaTeX markdown also express it as a system of linear combinations."
      ],
      "metadata": {
        "id": "RbcCk695Ktmn"
      }
    },
    {
      "cell_type": "code",
      "source": [
        "H = np.tril(G)\n",
        "H"
      ],
      "metadata": {
        "colab": {
          "base_uri": "https://localhost:8080/"
        },
        "id": "i25WTOOyKxHM",
        "outputId": "eaf2d826-68d0-4cbd-a327-dd8fe0b38286"
      },
      "execution_count": null,
      "outputs": [
        {
          "output_type": "execute_result",
          "data": {
            "text/plain": [
              "array([[1, 0, 0],\n",
              "       [2, 2, 0],\n",
              "       [4, 6, 7]])"
            ]
          },
          "metadata": {},
          "execution_count": 40
        }
      ]
    },
    {
      "cell_type": "markdown",
      "source": [
        "# Matrix Algebra\n",
        "Matrix algebra is the basis of many linear algebra algorithms. This section describes several matrix operations including transposition, matrix inversion, matrix exponentiation, and matrix multiplication. \n"
      ],
      "metadata": {
        "id": "--ZHq12MK3nF"
      }
    },
    {
      "cell_type": "markdown",
      "source": [
        "## Addition"
      ],
      "metadata": {
        "id": "Ann1RypTK7GV"
      }
    },
    {
      "cell_type": "code",
      "source": [
        "A = np.array([\n",
        "    [1,5],\n",
        "    [2,7],\n",
        "    [4,8]\n",
        "])\n",
        "B = np.array([\n",
        "    [0,3],\n",
        "    [7,0],\n",
        "    [7,1]\n",
        "])\n",
        "A+B"
      ],
      "metadata": {
        "colab": {
          "base_uri": "https://localhost:8080/"
        },
        "id": "aeIyNpYTK8i9",
        "outputId": "f4333b6c-39dd-491f-cf15-9ab38feca5e3"
      },
      "execution_count": null,
      "outputs": [
        {
          "output_type": "execute_result",
          "data": {
            "text/plain": [
              "array([[ 1,  8],\n",
              "       [ 9,  7],\n",
              "       [11,  9]])"
            ]
          },
          "metadata": {},
          "execution_count": 42
        }
      ]
    },
    {
      "cell_type": "code",
      "source": [
        "2+A ##Broadcasting\n",
        "# 2*np.ones(A.shape)+A"
      ],
      "metadata": {
        "colab": {
          "base_uri": "https://localhost:8080/"
        },
        "id": "Ia9wiazzLL_h",
        "outputId": "e313b6be-54a9-47e6-f39b-7658c5c816f8"
      },
      "execution_count": null,
      "outputs": [
        {
          "output_type": "execute_result",
          "data": {
            "text/plain": [
              "array([[ 3,  7],\n",
              "       [ 4,  9],\n",
              "       [ 6, 10]])"
            ]
          },
          "metadata": {},
          "execution_count": 43
        }
      ]
    },
    {
      "cell_type": "markdown",
      "source": [
        "## Subtraction"
      ],
      "metadata": {
        "id": "P8n0DULkLN31"
      }
    },
    {
      "cell_type": "code",
      "source": [
        "A-B"
      ],
      "metadata": {
        "colab": {
          "base_uri": "https://localhost:8080/"
        },
        "id": "Wn_yIQH3LQH0",
        "outputId": "a582750a-c9ac-4469-d0dd-cf12c272e783"
      },
      "execution_count": null,
      "outputs": [
        {
          "output_type": "execute_result",
          "data": {
            "text/plain": [
              "array([[ 1,  2],\n",
              "       [-5,  7],\n",
              "       [-3,  7]])"
            ]
          },
          "metadata": {},
          "execution_count": 44
        }
      ]
    },
    {
      "cell_type": "code",
      "source": [
        "3-B == 3*np.ones(B.shape)-B"
      ],
      "metadata": {
        "colab": {
          "base_uri": "https://localhost:8080/"
        },
        "id": "mU7UvEZ7Ku40",
        "outputId": "fefab06c-f5cd-48b6-d37e-338875b2c5ff"
      },
      "execution_count": null,
      "outputs": [
        {
          "output_type": "execute_result",
          "data": {
            "text/plain": [
              "array([[ True,  True],\n",
              "       [ True,  True],\n",
              "       [ True,  True]])"
            ]
          },
          "metadata": {},
          "execution_count": 45
        }
      ]
    },
    {
      "cell_type": "markdown",
      "source": [
        "# Element-wise Multiplication\n",
        "Multiplying two matrices together element by element is often faster than multiplying them together with a scalar. The code below multiplies together two matrices using element-wise multiplication."
      ],
      "metadata": {
        "id": "QpbwtsOJLVgV"
      }
    },
    {
      "cell_type": "code",
      "source": [
        "A*B\n",
        "np.multiply(A,B)"
      ],
      "metadata": {
        "colab": {
          "base_uri": "https://localhost:8080/"
        },
        "id": "J27aq5VWLZq9",
        "outputId": "885fdcbd-43a1-443a-f10e-e732145a9701"
      },
      "execution_count": null,
      "outputs": [
        {
          "output_type": "execute_result",
          "data": {
            "text/plain": [
              "array([[ 0, 15],\n",
              "       [14,  0],\n",
              "       [28,  8]])"
            ]
          },
          "metadata": {},
          "execution_count": 46
        }
      ]
    },
    {
      "cell_type": "code",
      "source": [
        "2*A"
      ],
      "metadata": {
        "colab": {
          "base_uri": "https://localhost:8080/"
        },
        "id": "HIqV23-SLcbU",
        "outputId": "6e7319ce-b951-4880-e386-29a6ab3aebb3"
      },
      "execution_count": null,
      "outputs": [
        {
          "output_type": "execute_result",
          "data": {
            "text/plain": [
              "array([[ 2, 10],\n",
              "       [ 4, 14],\n",
              "       [ 8, 16]])"
            ]
          },
          "metadata": {},
          "execution_count": 47
        }
      ]
    },
    {
      "cell_type": "code",
      "source": [
        "alpha=10**-10\n",
        "A/(alpha+B)"
      ],
      "metadata": {
        "colab": {
          "base_uri": "https://localhost:8080/"
        },
        "id": "kA6xgPsrLg-e",
        "outputId": "2e275623-4402-4eac-a919-a528471cb918"
      },
      "execution_count": null,
      "outputs": [
        {
          "output_type": "execute_result",
          "data": {
            "text/plain": [
              "array([[1.00000000e+10, 1.66666667e+00],\n",
              "       [2.85714286e-01, 7.00000000e+10],\n",
              "       [5.71428571e-01, 8.00000000e+00]])"
            ]
          },
          "metadata": {},
          "execution_count": 49
        }
      ]
    },
    {
      "cell_type": "code",
      "source": [
        "np.add(A,B)"
      ],
      "metadata": {
        "colab": {
          "base_uri": "https://localhost:8080/"
        },
        "id": "U-AIynfwLjl0",
        "outputId": "b4907926-cd72-4c81-9c5b-5907f0f4b4ec"
      },
      "execution_count": null,
      "outputs": [
        {
          "output_type": "execute_result",
          "data": {
            "text/plain": [
              "array([[ 1,  8],\n",
              "       [ 9,  7],\n",
              "       [11,  9]])"
            ]
          },
          "metadata": {},
          "execution_count": 50
        }
      ]
    },
    {
      "cell_type": "markdown",
      "source": [
        "# Activity"
      ],
      "metadata": {
        "id": "6upvx2EmLpaM"
      }
    },
    {
      "cell_type": "markdown",
      "source": [
        "## Task 1\n",
        "Create a function named mat_desc() that througouhly describes a matrix, it should:\n",
        "\n",
        "1. Displays the shape, size, and rank of the matrix.\n",
        "2. Displays whether the matrix is square or non-square.\n",
        "3. Displays whether the matrix is an empty matrix.\n",
        "4. Displays if the matrix is an identity, ones, or zeros matrix\n",
        "\n",
        "Use 3 sample matrices in which their shapes are not lower than (3,3). In your methodology, create a flowchart discuss the functions and methods you have done. Present your results in the results section showing the description of each matrix you have declared."
      ],
      "metadata": {
        "id": "0vfm13OjLrZV"
      }
    },
    {
      "cell_type": "code",
      "execution_count": 4,
      "metadata": {
        "id": "p0AGQ5AU0EHb"
      },
      "outputs": [],
      "source": [
        "## Function area\n",
        "\n",
        "import numpy as np"
      ]
    },
    {
      "cell_type": "code",
      "source": [
        "## Matrix Declarations\n",
        "\n",
        "def mat_desc(mat):\n",
        "    sq = False\n",
        "    mat = np.array(mat)\n",
        "    print(mat)\n",
        "    print('Shape:', mat.shape)\n",
        "    print('Size:', mat.size)\n",
        "    print('Rank:', np.linalg.matrix_rank(mat))\n",
        "    if(mat.shape[0] == mat.shape[1]):\n",
        "        sq = True\n",
        "        print('The matrix is square')\n",
        "    else:\n",
        "        print('The matrix is non-square')\n",
        "    if(mat.shape[0] == 0 and mat.shape[1] == 0):\n",
        "        print('The matrix is empty')\n",
        "    else:\n",
        "        print('The matrix is not empty')\n",
        "    iden = np.identity(mat.shape[0])\n",
        "    if(sq and (iden == mat).all()):\n",
        "        print('The matrix is an identity matrix')\n",
        "    else:\n",
        "        print('The matrix is not an identity matrix')\n",
        "    one = np.ones((mat.shape[0], mat.shape[1]))\n",
        "    if((one == mat).all()):\n",
        "        print('The matrix is an ones matrix')\n",
        "    else:\n",
        "        print('The matrix is not an ones matrix')\n",
        "    zero = np.zeros((mat.shape[0], mat.shape[1]))\n",
        "    if((zero == mat).all()):\n",
        "        print('The matrix is an zeros matrix')\n",
        "    else:\n",
        "        print('The matrix is not a zeros matrix')"
      ],
      "metadata": {
        "id": "mSBhxRb20UIV"
      },
      "execution_count": 5,
      "outputs": []
    },
    {
      "cell_type": "code",
      "source": [
        "## Sample Matrices\n",
        "\n",
        "print('Matrix 1:')\n",
        "mat_desc([[3, 9, 5], [1, 4, 6], [6, 3, 7]])\n",
        "print('Matrix 2:')\n",
        "mat_desc([[5, 4, 9], [1, 4, 8], [9, 5, 8]])\n",
        "print('Matrix 3:')\n",
        "mat_desc([[1, 1, 3], [3, 3, 3], [6, 6, 6]])"
      ],
      "metadata": {
        "colab": {
          "base_uri": "https://localhost:8080/"
        },
        "id": "WmdvkAIV08lm",
        "outputId": "60f9a8d4-c966-4e6d-b9c0-4de34b88be0c"
      },
      "execution_count": 6,
      "outputs": [
        {
          "output_type": "stream",
          "name": "stdout",
          "text": [
            "Matrix 1:\n",
            "[[3 9 5]\n",
            " [1 4 6]\n",
            " [6 3 7]]\n",
            "Shape: (3, 3)\n",
            "Size: 9\n",
            "Rank: 3\n",
            "The matrix is square\n",
            "The matrix is not empty\n",
            "The matrix is not an identity matrix\n",
            "The matrix is not an ones matrix\n",
            "The matrix is not a zeros matrix\n",
            "Matrix 2:\n",
            "[[5 4 9]\n",
            " [1 4 8]\n",
            " [9 5 8]]\n",
            "Shape: (3, 3)\n",
            "Size: 9\n",
            "Rank: 3\n",
            "The matrix is square\n",
            "The matrix is not empty\n",
            "The matrix is not an identity matrix\n",
            "The matrix is not an ones matrix\n",
            "The matrix is not a zeros matrix\n",
            "Matrix 3:\n",
            "[[1 1 3]\n",
            " [3 3 3]\n",
            " [6 6 6]]\n",
            "Shape: (3, 3)\n",
            "Size: 9\n",
            "Rank: 2\n",
            "The matrix is square\n",
            "The matrix is not empty\n",
            "The matrix is not an identity matrix\n",
            "The matrix is not an ones matrix\n",
            "The matrix is not a zeros matrix\n"
          ]
        }
      ]
    },
    {
      "cell_type": "markdown",
      "source": [
        "## Task 2"
      ],
      "metadata": {
        "id": "1Xnh4gxs28oM"
      }
    },
    {
      "cell_type": "markdown",
      "source": [
        "Create a  function named mat_operations() tht takes in two matrices in ynpyt marameters it should:\n",
        "1. Determines if the matrices are vaable for operation and returns your own error message if they are not viable.\n",
        "2. Returns the sum of the matrices.\n",
        "3. Returns the difference of the matrices.\n",
        "4. Returns the element-wise multiplication of the matrices.\n",
        "5. Returns the element-wise division of the matrices.\n",
        "\n",
        "Use 3 sample matrices in which their shapes are not lower than (3,3). In your methodology, create a flowchart discuss the functions and methods you have done. Present your results in the results section showing the description of each matrix you have declared."
      ],
      "metadata": {
        "id": "Lz_PGb1v-2sI"
      }
    },
    {
      "cell_type": "code",
      "source": [
        "def mat_operations(mat1, mat2):\n",
        "    mat1 = np.array(mat1)\n",
        "    mat2 = np.array(mat2)\n",
        "    print('Matrix 1:', mat1)\n",
        "    print('Matrix 2:', mat2)\n",
        "    if(mat1.shape != mat2.shape):\n",
        "          print('The shape of both matrices are not same. Could not perform operations.')\n",
        "          return\n",
        "    print('Sum of the given matrices:')\n",
        "    msum = mat1 + mat2\n",
        "    print(msum)\n",
        "    print('Difference of the given matrices:')\n",
        "    mdiff = mat1 - mat2\n",
        "    print(mdiff)\n",
        "    print('Element-wise multiplication of the given matrices:')\n",
        "    mmul = np.multiply(mat1, mat2)\n",
        "    print(mmul)\n",
        "    print('Element-wise division of the given matrices:')\n",
        "    mmul = np.divide(mat1, mat2)\n",
        "    print(mmul)"
      ],
      "metadata": {
        "id": "Qw-2yvBk2--F"
      },
      "execution_count": 7,
      "outputs": []
    },
    {
      "cell_type": "code",
      "source": [
        "print('Sample 1:')\n",
        "mat_operations([[1, 5, 5], [3, 4, 2], [4, 7, 8]], [[4, 4, 4], [5, 3, 3], [2, 2, 2]])\n",
        "print('Sample 2:')\n",
        "mat_operations([[1, 1, 1], [0, 0, 9], [4, 4, 4]], [[1, 1, 1], [6, 6, 6], [6, 6, 6]])\n",
        "print('Sample 3:')\n",
        "mat_operations([[1, 2, 1], [3, 3, 3], [6, 6, 6]], [[1, 1, 1], [7, 8, 7], [9, 8, 0]])"
      ],
      "metadata": {
        "colab": {
          "base_uri": "https://localhost:8080/"
        },
        "id": "KT4kD8oe3snO",
        "outputId": "fee27cb1-3e04-42fd-b829-27ee95449f93"
      },
      "execution_count": 8,
      "outputs": [
        {
          "output_type": "stream",
          "name": "stdout",
          "text": [
            "Sample 1:\n",
            "Matrix 1: [[1 5 5]\n",
            " [3 4 2]\n",
            " [4 7 8]]\n",
            "Matrix 2: [[4 4 4]\n",
            " [5 3 3]\n",
            " [2 2 2]]\n",
            "Sum of the given matrices:\n",
            "[[ 5  9  9]\n",
            " [ 8  7  5]\n",
            " [ 6  9 10]]\n",
            "Difference of the given matrices:\n",
            "[[-3  1  1]\n",
            " [-2  1 -1]\n",
            " [ 2  5  6]]\n",
            "Element-wise multiplication of the given matrices:\n",
            "[[ 4 20 20]\n",
            " [15 12  6]\n",
            " [ 8 14 16]]\n",
            "Element-wise division of the given matrices:\n",
            "[[0.25       1.25       1.25      ]\n",
            " [0.6        1.33333333 0.66666667]\n",
            " [2.         3.5        4.        ]]\n",
            "Sample 2:\n",
            "Matrix 1: [[1 1 1]\n",
            " [0 0 9]\n",
            " [4 4 4]]\n",
            "Matrix 2: [[1 1 1]\n",
            " [6 6 6]\n",
            " [6 6 6]]\n",
            "Sum of the given matrices:\n",
            "[[ 2  2  2]\n",
            " [ 6  6 15]\n",
            " [10 10 10]]\n",
            "Difference of the given matrices:\n",
            "[[ 0  0  0]\n",
            " [-6 -6  3]\n",
            " [-2 -2 -2]]\n",
            "Element-wise multiplication of the given matrices:\n",
            "[[ 1  1  1]\n",
            " [ 0  0 54]\n",
            " [24 24 24]]\n",
            "Element-wise division of the given matrices:\n",
            "[[1.         1.         1.        ]\n",
            " [0.         0.         1.5       ]\n",
            " [0.66666667 0.66666667 0.66666667]]\n",
            "Sample 3:\n",
            "Matrix 1: [[1 2 1]\n",
            " [3 3 3]\n",
            " [6 6 6]]\n",
            "Matrix 2: [[1 1 1]\n",
            " [7 8 7]\n",
            " [9 8 0]]\n",
            "Sum of the given matrices:\n",
            "[[ 2  3  2]\n",
            " [10 11 10]\n",
            " [15 14  6]]\n",
            "Difference of the given matrices:\n",
            "[[ 0  1  0]\n",
            " [-4 -5 -4]\n",
            " [-3 -2  6]]\n",
            "Element-wise multiplication of the given matrices:\n",
            "[[ 1  2  1]\n",
            " [21 24 21]\n",
            " [54 48  0]]\n",
            "Element-wise division of the given matrices:\n",
            "[[1.         2.         1.        ]\n",
            " [0.42857143 0.375      0.42857143]\n",
            " [0.66666667 0.75              inf]]\n"
          ]
        },
        {
          "output_type": "stream",
          "name": "stderr",
          "text": [
            "/usr/local/lib/python3.7/dist-packages/ipykernel_launcher.py:19: RuntimeWarning: divide by zero encountered in true_divide\n"
          ]
        }
      ]
    }
  ]
}